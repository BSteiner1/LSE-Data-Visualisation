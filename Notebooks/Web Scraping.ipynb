{
 "cells": [
  {
   "cell_type": "code",
   "execution_count": 1,
   "id": "8715e366",
   "metadata": {},
   "outputs": [],
   "source": [
    "import requests\n",
    "from bs4 import BeautifulSoup\n",
    "import pandas as pd"
   ]
  },
  {
   "cell_type": "markdown",
   "id": "6db8710c",
   "metadata": {},
   "source": [
    "### Define the URLs of the pages we will be scraping"
   ]
  },
  {
   "cell_type": "code",
   "execution_count": 37,
   "id": "74c11dc3",
   "metadata": {},
   "outputs": [],
   "source": [
    "dma_url = \"https://www.lse.ac.uk/Mathematics/Research/Discrete-Mathematics-and-Algorithms\"\n",
    "fin_url = \"https://www.lse.ac.uk/Mathematics/Research/Financial-Mathematics-and-Control-Theory\"\n",
    "game_url = \"https://www.lse.ac.uk/Mathematics/Research/Game-Theory\"\n",
    "or_url = \"https://www.lse.ac.uk/Mathematics/Research/Operations-Research\""
   ]
  },
  {
   "cell_type": "markdown",
   "id": "81a4fbe4",
   "metadata": {},
   "source": [
    "### Create a function to help us scrape a url and return a list of professors\n",
    "* `DMA` : Discrete Maths and Algorithms\n",
    "* `FIN` : Financial Maths\n",
    "* `GAME` : Game Theory\n",
    "* `OR` : Operational Research"
   ]
  },
  {
   "cell_type": "code",
   "execution_count": 36,
   "id": "08be1305",
   "metadata": {},
   "outputs": [],
   "source": [
    "def get_professors(url):\n",
    "    \n",
    "    r = requests.get(url)\n",
    "    soup = BeautifulSoup(r.content, 'lxml')\n",
    "    div = soup.find('div', class_ = \"pageContent pageContent--std\")\n",
    "    # Find all headers\n",
    "    profs = div.find_all('a')\n",
    "    #return profs\n",
    "    \n",
    "    # Extract the text from each header\n",
    "    profs = [prof.text for prof in profs]\n",
    "    #return profs\n",
    "    # Remove the `\\xa0` unicode\n",
    "    profs = [prof.replace('\\xa0', ' ') for prof in profs]\n",
    "    \n",
    "    # Remove whitespace\n",
    "    profs = [prof.strip() for prof in profs]\n",
    "    \n",
    "    return profs"
   ]
  },
  {
   "cell_type": "markdown",
   "id": "32d6c345",
   "metadata": {},
   "source": [
    "### Create the 4 lists of professors"
   ]
  },
  {
   "cell_type": "code",
   "execution_count": 108,
   "id": "7b899aff",
   "metadata": {},
   "outputs": [],
   "source": [
    "dma_profs = get_professors(dma_url)\n",
    "fin_profs = get_professors(fin_url)\n",
    "game_profs = get_professors(game_url)\n",
    "or_profs = get_professors(or_url)"
   ]
  },
  {
   "cell_type": "markdown",
   "id": "4fcac984",
   "metadata": {},
   "source": [
    "### The lists still require some cleaning"
   ]
  },
  {
   "cell_type": "code",
   "execution_count": 109,
   "id": "f901140b",
   "metadata": {},
   "outputs": [],
   "source": [
    "# Clean DMA list\n",
    "dma_profs.pop(5)\n",
    "dma_profs = dma_profs[:-8]"
   ]
  },
  {
   "cell_type": "code",
   "execution_count": 110,
   "id": "cfd29ce3",
   "metadata": {},
   "outputs": [],
   "source": [
    "# Clean FIN list\n",
    "fin_profs.pop(0)\n",
    "fin_profs = fin_profs[:-9]"
   ]
  },
  {
   "cell_type": "code",
   "execution_count": 111,
   "id": "73766723",
   "metadata": {},
   "outputs": [],
   "source": [
    "# Clean GAME list\n",
    "game_profs.pop(2)\n",
    "game_profs.pop(3)\n",
    "game_profs.pop(4)\n",
    "game_profs = game_profs[:-5]"
   ]
  },
  {
   "cell_type": "code",
   "execution_count": 112,
   "id": "8a8348cd",
   "metadata": {},
   "outputs": [],
   "source": [
    "# Clean OR list\n",
    "for i in range(6):\n",
    "    or_profs.pop(1)\n",
    "or_profs = or_profs[:-8]"
   ]
  },
  {
   "cell_type": "markdown",
   "id": "4f3b76a7",
   "metadata": {},
   "source": [
    "### Create a DataFrame\n",
    "* We will have the professor as a column name\n",
    "* Then their interests underneath"
   ]
  },
  {
   "cell_type": "code",
   "execution_count": 113,
   "id": "42634519",
   "metadata": {},
   "outputs": [],
   "source": [
    "column_names = dma_profs + fin_profs + game_profs + or_profs"
   ]
  },
  {
   "cell_type": "code",
   "execution_count": 114,
   "id": "fb23e667",
   "metadata": {},
   "outputs": [],
   "source": [
    "df = pd.DataFrame(columns = column_names)"
   ]
  },
  {
   "cell_type": "code",
   "execution_count": 115,
   "id": "4d6166ab",
   "metadata": {},
   "outputs": [
    {
     "data": {
      "text/html": [
       "<div>\n",
       "<style scoped>\n",
       "    .dataframe tbody tr th:only-of-type {\n",
       "        vertical-align: middle;\n",
       "    }\n",
       "\n",
       "    .dataframe tbody tr th {\n",
       "        vertical-align: top;\n",
       "    }\n",
       "\n",
       "    .dataframe thead th {\n",
       "        text-align: right;\n",
       "    }\n",
       "</style>\n",
       "<table border=\"1\" class=\"dataframe\">\n",
       "  <thead>\n",
       "    <tr style=\"text-align: right;\">\n",
       "      <th></th>\n",
       "      <th>Professor Peter Allen</th>\n",
       "      <th>Professor Martin Anthony</th>\n",
       "      <th>Dr Tugkan Batu</th>\n",
       "      <th>Professor Julia Böttcher</th>\n",
       "      <th>Professor Graham Brightwell</th>\n",
       "      <th>Professor Jan van den Heuvel</th>\n",
       "      <th>Professor Andrew Lewis-Pye</th>\n",
       "      <th>Dr Emilio Pierro</th>\n",
       "      <th>Dr Robert Simon</th>\n",
       "      <th>Professor Jozef Skokan</th>\n",
       "      <th>...</th>\n",
       "      <th>Dr Robert Simon</th>\n",
       "      <th>Professor Bernhard von Stengel</th>\n",
       "      <th>Dr Ahmad Abdi</th>\n",
       "      <th>Dr Grammateia Kotsialou</th>\n",
       "      <th>Dr Neil Olver</th>\n",
       "      <th>Dr Katerina Papadaki</th>\n",
       "      <th>Professor Gregory Sorkin</th>\n",
       "      <th>Professor László Végh</th>\n",
       "      <th>Dr Aled Williams</th>\n",
       "      <th>Dr Giacomo Zambelli</th>\n",
       "    </tr>\n",
       "  </thead>\n",
       "  <tbody>\n",
       "  </tbody>\n",
       "</table>\n",
       "<p>0 rows × 33 columns</p>\n",
       "</div>"
      ],
      "text/plain": [
       "Empty DataFrame\n",
       "Columns: [Professor Peter Allen, Professor Martin Anthony, Dr Tugkan Batu, Professor Julia Böttcher, Professor Graham Brightwell, Professor Jan van den Heuvel, Professor Andrew Lewis-Pye, Dr Emilio Pierro, Dr Robert Simon, Professor Jozef Skokan, Professor Konrad Swanepoel, Dr Christoph Czichowsky, Dr Albina Danilova, Dr Pavel Gapeev, Dr Arne Lokka, Professor Adam Ostaszewski, Professor Johannes Ruf, Professor Amol Sasane, Professor Luitgard Veraart, Professor Mihail Zervos, Dr Galit Ashkenazi-Golan, Professor Olivier Gossner, Professor Andrew Lewis-Pye, Dr Robert Simon, Professor Bernhard von Stengel, Dr Ahmad Abdi, Dr Grammateia Kotsialou, Dr Neil Olver, Dr Katerina Papadaki, Professor Gregory Sorkin, Professor László Végh, Dr Aled Williams, Dr Giacomo Zambelli]\n",
       "Index: []\n",
       "\n",
       "[0 rows x 33 columns]"
      ]
     },
     "execution_count": 115,
     "metadata": {},
     "output_type": "execute_result"
    }
   ],
   "source": [
    "df "
   ]
  },
  {
   "cell_type": "code",
   "execution_count": null,
   "id": "fbf8bc02",
   "metadata": {},
   "outputs": [],
   "source": []
  }
 ],
 "metadata": {
  "kernelspec": {
   "display_name": "Python 3 (ipykernel)",
   "language": "python",
   "name": "python3"
  },
  "language_info": {
   "codemirror_mode": {
    "name": "ipython",
    "version": 3
   },
   "file_extension": ".py",
   "mimetype": "text/x-python",
   "name": "python",
   "nbconvert_exporter": "python",
   "pygments_lexer": "ipython3",
   "version": "3.9.7"
  }
 },
 "nbformat": 4,
 "nbformat_minor": 5
}
