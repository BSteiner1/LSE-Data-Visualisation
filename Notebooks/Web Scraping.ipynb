{
 "cells": [
  {
   "cell_type": "code",
   "execution_count": 1,
   "id": "8715e366",
   "metadata": {},
   "outputs": [],
   "source": [
    "import requests\n",
    "from bs4 import BeautifulSoup\n",
    "import pandas as pd"
   ]
  },
  {
   "cell_type": "code",
   "execution_count": 9,
   "id": "05d643e3",
   "metadata": {},
   "outputs": [],
   "source": [
    "# Define the URL\n",
    "url = \"https://www.lse.ac.uk/Mathematics/Research/Discrete-Mathematics-and-Algorithms\""
   ]
  },
  {
   "cell_type": "code",
   "execution_count": 10,
   "id": "69f933f3",
   "metadata": {},
   "outputs": [
    {
     "data": {
      "text/plain": [
       "(200, 'OK')"
      ]
     },
     "execution_count": 10,
     "metadata": {},
     "output_type": "execute_result"
    }
   ],
   "source": [
    "# Perform the request and check that it worked\n",
    "r = requests.get(url)\n",
    "r.status_code, r.reason"
   ]
  },
  {
   "cell_type": "code",
   "execution_count": 11,
   "id": "24cc41a2",
   "metadata": {},
   "outputs": [],
   "source": [
    "soup = BeautifulSoup(r.content, 'lxml')"
   ]
  },
  {
   "cell_type": "code",
   "execution_count": 12,
   "id": "3c2ad802",
   "metadata": {},
   "outputs": [],
   "source": [
    "div = soup.find('div', class_ = \"pageContent pageContent--std\")"
   ]
  },
  {
   "cell_type": "code",
   "execution_count": 13,
   "id": "9710e25b",
   "metadata": {},
   "outputs": [],
   "source": [
    "# Find all headers\n",
    "all_headers = div.find_all('h2')"
   ]
  },
  {
   "cell_type": "code",
   "execution_count": 14,
   "id": "049bc6f0",
   "metadata": {},
   "outputs": [],
   "source": [
    "# Extract the text from each header\n",
    "all_headers_text = [all_headers[i].text for i in range(len(all_headers))]"
   ]
  },
  {
   "cell_type": "code",
   "execution_count": 15,
   "id": "0e999f44",
   "metadata": {},
   "outputs": [
    {
     "data": {
      "text/plain": [
       "['\\xa0Professor Peter Allen\\xa0',\n",
       " 'Professor Martin Anthony\\xa0',\n",
       " '\\xa0',\n",
       " 'Dr Tugkan Batu\\xa0',\n",
       " '\\xa0Professor Julia Böttcher',\n",
       " '\\xa0Professor Graham Brightwell',\n",
       " 'Professor Jan van den Heuvel',\n",
       " 'Professor\\xa0Andrew Lewis-Pye',\n",
       " 'Dr Emilio Pierro',\n",
       " '\\xa0',\n",
       " 'Dr Robert Simon',\n",
       " '\\xa0Professor Jozef Skokan',\n",
       " '\\xa0Professor Konrad Swanepoel',\n",
       " 'Postdocs',\n",
       " 'Research Students',\n",
       " '\\xa0']"
      ]
     },
     "execution_count": 15,
     "metadata": {},
     "output_type": "execute_result"
    }
   ],
   "source": [
    "all_headers_text"
   ]
  },
  {
   "cell_type": "code",
   "execution_count": null,
   "id": "edb3de6f",
   "metadata": {},
   "outputs": [],
   "source": []
  }
 ],
 "metadata": {
  "kernelspec": {
   "display_name": "Python 3 (ipykernel)",
   "language": "python",
   "name": "python3"
  },
  "language_info": {
   "codemirror_mode": {
    "name": "ipython",
    "version": 3
   },
   "file_extension": ".py",
   "mimetype": "text/x-python",
   "name": "python",
   "nbconvert_exporter": "python",
   "pygments_lexer": "ipython3",
   "version": "3.9.7"
  }
 },
 "nbformat": 4,
 "nbformat_minor": 5
}
