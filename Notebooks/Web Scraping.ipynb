{
 "cells": [
  {
   "cell_type": "code",
   "execution_count": 208,
   "id": "8715e366",
   "metadata": {},
   "outputs": [],
   "source": [
    "import requests\n",
    "from bs4 import BeautifulSoup\n",
    "import pandas as pd\n",
    "from netgraph import Graph"
   ]
  },
  {
   "cell_type": "code",
   "execution_count": 209,
   "id": "79b5024a",
   "metadata": {},
   "outputs": [],
   "source": [
    "# Define the LSE colour\n",
    "LSE_RED = '#ed1c2e'"
   ]
  },
  {
   "cell_type": "markdown",
   "id": "6db8710c",
   "metadata": {},
   "source": [
    "### Define the URLs of the pages we will be scraping"
   ]
  },
  {
   "cell_type": "code",
   "execution_count": 210,
   "id": "74c11dc3",
   "metadata": {},
   "outputs": [],
   "source": [
    "dma_url = \"https://www.lse.ac.uk/Mathematics/Research/Discrete-Mathematics-and-Algorithms\"\n",
    "fin_url = \"https://www.lse.ac.uk/Mathematics/Research/Financial-Mathematics-and-Control-Theory\"\n",
    "game_url = \"https://www.lse.ac.uk/Mathematics/Research/Game-Theory\"\n",
    "or_url = \"https://www.lse.ac.uk/Mathematics/Research/Operations-Research\""
   ]
  },
  {
   "cell_type": "markdown",
   "id": "81a4fbe4",
   "metadata": {},
   "source": [
    "### Create a function to help us scrape a url and return a list of professors\n",
    "* `DMA` : Discrete Maths and Algorithms\n",
    "* `FIN` : Financial Maths\n",
    "* `GAME` : Game Theory\n",
    "* `OR` : Operational Research"
   ]
  },
  {
   "cell_type": "code",
   "execution_count": 236,
   "id": "08be1305",
   "metadata": {},
   "outputs": [],
   "source": [
    "def get_professors(url):\n",
    "    \n",
    "    r = requests.get(url)\n",
    "    soup = BeautifulSoup(r.content, 'lxml')\n",
    "    div = soup.find('div', class_ = \"pageContent pageContent--std\")\n",
    "    # Find all headers\n",
    "    profs = div.find_all('a')\n",
    "    #return profs\n",
    "    \n",
    "    # Extract the text from each header\n",
    "    profs = [prof.text for prof in profs]\n",
    "    #return profs\n",
    "    # Remove the `\\xa0` unicode\n",
    "    profs = [prof.replace('\\xa0', ' ') for prof in profs]\n",
    "    \n",
    "    # Remove whitespace\n",
    "    profs = [prof.strip() for prof in profs]\n",
    "    \n",
    "    return profs"
   ]
  },
  {
   "cell_type": "markdown",
   "id": "32d6c345",
   "metadata": {},
   "source": [
    "### Create the 4 lists of professors"
   ]
  },
  {
   "cell_type": "code",
   "execution_count": 237,
   "id": "7b899aff",
   "metadata": {},
   "outputs": [],
   "source": [
    "dma_profs = get_professors(dma_url)\n",
    "fin_profs = get_professors(fin_url)\n",
    "game_profs = get_professors(game_url)\n",
    "or_profs = get_professors(or_url)"
   ]
  },
  {
   "cell_type": "markdown",
   "id": "4fcac984",
   "metadata": {},
   "source": [
    "### The lists still require some cleaning"
   ]
  },
  {
   "cell_type": "code",
   "execution_count": 238,
   "id": "f901140b",
   "metadata": {},
   "outputs": [],
   "source": [
    "# Clean DMA list\n",
    "dma_profs.pop(5)\n",
    "dma_profs = dma_profs[:-8]"
   ]
  },
  {
   "cell_type": "code",
   "execution_count": 239,
   "id": "cfd29ce3",
   "metadata": {},
   "outputs": [],
   "source": [
    "# Clean FIN list\n",
    "fin_profs.pop(0)\n",
    "fin_profs = fin_profs[:-9]"
   ]
  },
  {
   "cell_type": "code",
   "execution_count": 240,
   "id": "73766723",
   "metadata": {},
   "outputs": [],
   "source": [
    "# Clean GAME list\n",
    "game_profs.pop(2)\n",
    "game_profs.pop(3)\n",
    "game_profs.pop(4)\n",
    "game_profs = game_profs[:-5]"
   ]
  },
  {
   "cell_type": "code",
   "execution_count": 241,
   "id": "8a8348cd",
   "metadata": {},
   "outputs": [],
   "source": [
    "# Clean OR list\n",
    "for i in range(6):\n",
    "    or_profs.pop(1)\n",
    "or_profs = or_profs[:-8]"
   ]
  },
  {
   "cell_type": "markdown",
   "id": "1cc2cdc9",
   "metadata": {},
   "source": [
    "### Create a graph to show the different clusters\n",
    "* We will use Netgraph for the visualisation as it looks slighlty nicer than NetworkX\n",
    "* But we will use NetworkX to find metrics about the network"
   ]
  },
  {
   "cell_type": "code",
   "execution_count": 242,
   "id": "bc04aacf",
   "metadata": {},
   "outputs": [],
   "source": [
    "# Create a list of the 4 areas\n",
    "areas = [\"DMA\", \"FIN\", \"OR\", \"GAME\"]"
   ]
  },
  {
   "cell_type": "code",
   "execution_count": 243,
   "id": "4f4ab5ad",
   "metadata": {},
   "outputs": [],
   "source": [
    "# Create the start of the graph\n",
    "area_edges = [(\"Maths\", area) for area in areas]"
   ]
  },
  {
   "cell_type": "code",
   "execution_count": 244,
   "id": "fc720569",
   "metadata": {},
   "outputs": [
    {
     "data": {
      "image/png": "[encoded data removed]",
      "text/plain": [
       "<Figure size 432x288 with 1 Axes>"
      ]
     },
     "metadata": {},
     "output_type": "display_data"
    }
   ],
   "source": [
    "# Initial layout\n",
    "Graph(area_edges, node_layout='radial', node_size = 12, node_color = LSE_RED, node_labels = True);"
   ]
  },
  {
   "cell_type": "markdown",
   "id": "75d6ae74",
   "metadata": {},
   "source": [
    "### A function to create the edges "
   ]
  },
  {
   "cell_type": "code",
   "execution_count": 245,
   "id": "6359f20e",
   "metadata": {},
   "outputs": [],
   "source": [
    "def edges(area, profs):\n",
    "    edges = [(area, prof) for prof in profs]\n",
    "    \n",
    "    return edges"
   ]
  },
  {
   "cell_type": "code",
   "execution_count": 246,
   "id": "57e69c8a",
   "metadata": {},
   "outputs": [],
   "source": [
    "all_profs = dma_profs + fin_profs + game_profs + or_profs"
   ]
  },
  {
   "cell_type": "markdown",
   "id": "6493994f",
   "metadata": {},
   "source": [
    "### A bit of cleaning"
   ]
  },
  {
   "cell_type": "code",
   "execution_count": 247,
   "id": "92eeae20",
   "metadata": {},
   "outputs": [
    {
     "data": {
      "text/plain": [
       "Dr Robert Simon                   2\n",
       "Professor Andrew Lewis-Pye        2\n",
       "Professor Amol Sasane             1\n",
       "Dr Neil Olver                     1\n",
       "Professor Jan van den Heuvel      1\n",
       "Professor Martin Anthony          1\n",
       "Professor Olivier Gossner         1\n",
       "Professor László Végh             1\n",
       "Professor Luitgard Veraart        1\n",
       "Dr Aled Williams                  1\n",
       "Professor Konrad Swanepoel        1\n",
       "Dr Arne Lokka                     1\n",
       "Professor Adam Ostaszewski        1\n",
       "Professor Bernhard von Stengel    1\n",
       "Professor Mihail Zervos           1\n",
       "Professor Jozef Skokan            1\n",
       "Professor Gregory Sorkin          1\n",
       "Dr Katerina Papadaki              1\n",
       "Dr Tugkan Batu                    1\n",
       "Dr Ahmad Abdi                     1\n",
       "Dr Christoph Czichowsky           1\n",
       "Dr Albina Danilova                1\n",
       "Professor Peter Allen             1\n",
       "Dr Pavel Gapeev                   1\n",
       "Professor Julia Böttcher          1\n",
       "Dr Emilio Pierro                  1\n",
       "Dr Galit Ashkenazi-Golan          1\n",
       "Professor Graham Brightwell       1\n",
       "Dr Grammateia Kotsialou           1\n",
       "Professor Johannes Ruf            1\n",
       "dtype: int64"
      ]
     },
     "execution_count": 247,
     "metadata": {},
     "output_type": "execute_result"
    }
   ],
   "source": [
    "# Check for duplicates (it will make the visualisation look bad)\n",
    "pd.Series(all_profs).value_counts()"
   ]
  },
  {
   "cell_type": "code",
   "execution_count": 248,
   "id": "6dfcef3b",
   "metadata": {},
   "outputs": [
    {
     "data": {
      "text/plain": [
       "(True, False, True, False)"
      ]
     },
     "execution_count": 248,
     "metadata": {},
     "output_type": "execute_result"
    }
   ],
   "source": [
    "# Find what areas the dulicates are in\n",
    "(\"Dr Robert Simon\" in dma_profs, \"Dr Robert Simon\" in fin_profs, \\\n",
    "\"Dr Robert Simon\" in game_profs, \"Dr Robert Simon\" in or_profs)"
   ]
  },
  {
   "cell_type": "code",
   "execution_count": 249,
   "id": "ec093342",
   "metadata": {},
   "outputs": [
    {
     "data": {
      "text/plain": [
       "(True, False, True, False)"
      ]
     },
     "execution_count": 249,
     "metadata": {},
     "output_type": "execute_result"
    }
   ],
   "source": [
    "# Find what areas the dulicates are in\n",
    "(\"Professor Andrew Lewis-Pye\" in dma_profs, \"Professor Andrew Lewis-Pye\" in fin_profs, \\\n",
    "\"Professor Andrew Lewis-Pye\" in game_profs, \"Professor Andrew Lewis-Pye\" in or_profs)"
   ]
  },
  {
   "cell_type": "code",
   "execution_count": 250,
   "id": "a52e9546",
   "metadata": {},
   "outputs": [],
   "source": [
    "# Remove them from the longer list\n",
    "dma_profs.remove(\"Dr Robert Simon\")\n",
    "dma_profs.remove(\"Professor Andrew Lewis-Pye\")"
   ]
  },
  {
   "cell_type": "markdown",
   "id": "a25def50",
   "metadata": {},
   "source": [
    "### Create a list with all the edges to professors"
   ]
  },
  {
   "cell_type": "code",
   "execution_count": 226,
   "id": "79a5841f",
   "metadata": {},
   "outputs": [],
   "source": [
    "#Create the list of all edges in the graph\n",
    "prof_edges = edges(\"DMA\", dma_profs) + edges(\"GAME\", game_profs) + \\\n",
    "            edges(\"FIN\", fin_profs) + edges(\"OR\", or_profs)"
   ]
  },
  {
   "cell_type": "code",
   "execution_count": 227,
   "id": "222958f5",
   "metadata": {},
   "outputs": [],
   "source": [
    "# Create a list with all edges\n",
    "all_edges = area_edges + prof_edges"
   ]
  },
  {
   "cell_type": "code",
   "execution_count": 228,
   "id": "b0153a33",
   "metadata": {},
   "outputs": [],
   "source": [
    "# Colouring the edges\n",
    "area_colour = {area : 'black' for area in area_edges}\n",
    "dma_colour = {dma_prof : 'purple' for dma_prof in edges(\"DMA\", dma_profs)}\n",
    "fin_colour = {fin_prof : 'green' for fin_prof in edges(\"GAME\", game_profs)}\n",
    "game_colour = {game_prof : 'blue' for game_prof in edges(\"FIN\", fin_profs)}\n",
    "or_colour = {or_prof : 'gold' for or_prof in edges(\"OR\", or_profs)}\n",
    "colouring = area_colour | dma_colour | fin_colour | game_colour | or_colour"
   ]
  },
  {
   "cell_type": "markdown",
   "id": "334908b5",
   "metadata": {},
   "source": [
    "### Final graph layout"
   ]
  },
  {
   "cell_type": "code",
   "execution_count": 229,
   "id": "8e252a0d",
   "metadata": {},
   "outputs": [
    {
     "data": {
      "image/png": "[encoded data removed]",
      "text/plain": [
       "<Figure size 432x288 with 1 Axes>"
      ]
     },
     "metadata": {},
     "output_type": "display_data"
    }
   ],
   "source": [
    "Graph(all_edges, node_layout='radial', node_size = 4, \\\n",
    "      edge_color = colouring, node_color = LSE_RED, node_labels = True);"
   ]
  },
  {
   "cell_type": "markdown",
   "id": "9be2cae1",
   "metadata": {},
   "source": [
    "### Collect the data for interests of professors\n",
    "* We create a list of lists, where each sub-list has the interests of a professor"
   ]
  },
  {
   "cell_type": "code",
   "execution_count": 230,
   "id": "325455a4",
   "metadata": {},
   "outputs": [],
   "source": [
    "def prof_interests(url):\n",
    "\n",
    "    r = requests.get(url)\n",
    "    soup = BeautifulSoup(r.content, 'lxml')\n",
    "    div = soup.find_all('div', class_ = \"accordion__txt\")\n",
    "    # Clean the data\n",
    "    interests = [prof_interests.text for prof_interests in div]\n",
    "    interests = [prof_interests[2:-2] for prof_interests in interests]\n",
    "    interests = [prof_interests.replace('\\n', '.') for prof_interests in interests]\n",
    "    interests = [prof_interests.split('.') for prof_interests in interests]\n",
    "    \n",
    "    return interests"
   ]
  },
  {
   "cell_type": "code",
   "execution_count": 233,
   "id": "224a3f6c",
   "metadata": {},
   "outputs": [
    {
     "data": {
      "text/plain": [
       "[['Extremal and random combinatorics; in particular Ramsey theory',\n",
       "  'Extremal (hyper)graph theory',\n",
       "  'Extremal theorems on (quasi)random structures, and algorithmic aspects thereof'],\n",
       " ['Mathematical aspects of machine learning, particularly probabilistic modelling of learning and discrete mathematical problems in the theory of learning, data mining and artificial neural networks',\n",
       "  'Boolean function classes and their representations'],\n",
       " ['Algorithms and theory of computation; particularly randomized computation',\n",
       "  'Sublinear algorithms on massive data sets',\n",
       "  'Property testing',\n",
       "  'Computational statistics'],\n",
       " ['Extremal combinatorics',\n",
       "  'Random and quasi-random discrete structures',\n",
       "  'Ramsey theory',\n",
       "  'Algorithmical and structural graph theory',\n",
       "  'Graph colouring'],\n",
       " ['Combinatorics in general, especially finite partially ordered sets, probabilistic methods, and algorithmic aspects',\n",
       "  'Random graphs',\n",
       "  'Random structures'],\n",
       " ['Graph theory',\n",
       "  'Matroid theory',\n",
       "  'Applications and algorithmic aspects of graph theory',\n",
       "  'Mathematical aspects of frequency assignment problems',\n",
       "  'Mathematical aspects of networks',\n",
       "  'Discrete mathematics in general'],\n",
       " ['Algorithmic processes',\n",
       "  'Randomness',\n",
       "  'Computability',\n",
       "  'Algorithmic game theory',\n",
       "  'Agent based models',\n",
       "  'Networks',\n",
       "  'Discrete mathematics in general'],\n",
       " ['Finite group theory',\n",
       "  'Groups of Lie type',\n",
       "  'Geometric group theory',\n",
       "  'Combinatorics',\n",
       "  'Generation of finite simple groups'],\n",
       " ['Measure theory',\n",
       "  'Ergodic theory',\n",
       "  'Functional analysis',\n",
       "  'Stochastic processes',\n",
       "  'Chaos Theory',\n",
       "  'Combinatorics',\n",
       "  'Algebraic topology'],\n",
       " ['Extremal set theory',\n",
       "  'Quasi-random structures',\n",
       "  'Probabilistic combinatorics',\n",
       "  'Discrete geometry',\n",
       "  'Graph theory',\n",
       "  'Combinatorial games',\n",
       "  'Topics in theoretical computer science'],\n",
       " ['Combinatorial and discrete geometry',\n",
       "  'Axiomatic geometry',\n",
       "  'Finite geometries',\n",
       "  'Geometry of finite-dimensional normed spaces',\n",
       "  'Geometric shortest networks, such as Steiner Minimal Trees and the Fermat-Torricelli Problem',\n",
       "  'Extremal combinatorics']]"
      ]
     },
     "execution_count": 233,
     "metadata": {},
     "output_type": "execute_result"
    }
   ],
   "source": [
    "prof_interests(dma_url)"
   ]
  },
  {
   "cell_type": "markdown",
   "id": "97f7248a",
   "metadata": {},
   "source": [
    "### NLP to tokenise the words"
   ]
  },
  {
   "cell_type": "code",
   "execution_count": null,
   "id": "e1ed6669",
   "metadata": {},
   "outputs": [],
   "source": []
  },
  {
   "cell_type": "code",
   "execution_count": null,
   "id": "fcee9bfc",
   "metadata": {},
   "outputs": [],
   "source": []
  },
  {
   "cell_type": "code",
   "execution_count": null,
   "id": "47b0b8c7",
   "metadata": {},
   "outputs": [],
   "source": []
  },
  {
   "cell_type": "markdown",
   "id": "4f3b76a7",
   "metadata": {},
   "source": [
    "### Create a DataFrame\n",
    "* We will have the professor as a column name\n",
    "* Then their interests underneath"
   ]
  },
  {
   "cell_type": "code",
   "execution_count": 231,
   "id": "fb23e667",
   "metadata": {},
   "outputs": [],
   "source": [
    "df = pd.DataFrame(columns = all_profs)"
   ]
  },
  {
   "cell_type": "code",
   "execution_count": 232,
   "id": "4d6166ab",
   "metadata": {},
   "outputs": [
    {
     "data": {
      "text/html": [
       "<div>\n",
       "<style scoped>\n",
       "    .dataframe tbody tr th:only-of-type {\n",
       "        vertical-align: middle;\n",
       "    }\n",
       "\n",
       "    .dataframe tbody tr th {\n",
       "        vertical-align: top;\n",
       "    }\n",
       "\n",
       "    .dataframe thead th {\n",
       "        text-align: right;\n",
       "    }\n",
       "</style>\n",
       "<table border=\"1\" class=\"dataframe\">\n",
       "  <thead>\n",
       "    <tr style=\"text-align: right;\">\n",
       "      <th></th>\n",
       "      <th>Professor Peter Allen</th>\n",
       "      <th>Professor Martin Anthony</th>\n",
       "      <th>Dr Tugkan Batu</th>\n",
       "      <th>Professor Julia Böttcher</th>\n",
       "      <th>Professor Graham Brightwell</th>\n",
       "      <th>Professor Jan van den Heuvel</th>\n",
       "      <th>Professor Andrew Lewis-Pye</th>\n",
       "      <th>Dr Emilio Pierro</th>\n",
       "      <th>Dr Robert Simon</th>\n",
       "      <th>Professor Jozef Skokan</th>\n",
       "      <th>...</th>\n",
       "      <th>Professor Andrew Lewis-Pye</th>\n",
       "      <th>Dr Robert Simon</th>\n",
       "      <th>Professor Bernhard von Stengel</th>\n",
       "      <th>Dr Ahmad Abdi</th>\n",
       "      <th>Dr Grammateia Kotsialou</th>\n",
       "      <th>Dr Neil Olver</th>\n",
       "      <th>Dr Katerina Papadaki</th>\n",
       "      <th>Professor Gregory Sorkin</th>\n",
       "      <th>Professor László Végh</th>\n",
       "      <th>Dr Aled Williams</th>\n",
       "    </tr>\n",
       "  </thead>\n",
       "  <tbody>\n",
       "  </tbody>\n",
       "</table>\n",
       "<p>0 rows × 32 columns</p>\n",
       "</div>"
      ],
      "text/plain": [
       "Empty DataFrame\n",
       "Columns: [Professor Peter Allen, Professor Martin Anthony, Dr Tugkan Batu, Professor Julia Böttcher, Professor Graham Brightwell, Professor Jan van den Heuvel, Professor Andrew Lewis-Pye, Dr Emilio Pierro, Dr Robert Simon, Professor Jozef Skokan, Professor Konrad Swanepoel, Dr Christoph Czichowsky, Dr Albina Danilova, Dr Pavel Gapeev, Dr Arne Lokka, Professor Adam Ostaszewski, Professor Johannes Ruf, Professor Amol Sasane, Professor Luitgard Veraart, Professor Mihail Zervos, Dr Galit Ashkenazi-Golan, Professor Olivier Gossner, Professor Andrew Lewis-Pye, Dr Robert Simon, Professor Bernhard von Stengel, Dr Ahmad Abdi, Dr Grammateia Kotsialou, Dr Neil Olver, Dr Katerina Papadaki, Professor Gregory Sorkin, Professor László Végh, Dr Aled Williams]\n",
       "Index: []\n",
       "\n",
       "[0 rows x 32 columns]"
      ]
     },
     "execution_count": 232,
     "metadata": {},
     "output_type": "execute_result"
    }
   ],
   "source": [
    "df "
   ]
  },
  {
   "cell_type": "code",
   "execution_count": null,
   "id": "fbf8bc02",
   "metadata": {},
   "outputs": [],
   "source": []
  }
 ],
 "metadata": {
  "kernelspec": {
   "display_name": "Python 3 (ipykernel)",
   "language": "python",
   "name": "python3"
  },
  "language_info": {
   "codemirror_mode": {
    "name": "ipython",
    "version": 3
   },
   "file_extension": ".py",
   "mimetype": "text/x-python",
   "name": "python",
   "nbconvert_exporter": "python",
   "pygments_lexer": "ipython3",
   "version": "3.9.7"
  }
 },
 "nbformat": 4,
 "nbformat_minor": 5
}
