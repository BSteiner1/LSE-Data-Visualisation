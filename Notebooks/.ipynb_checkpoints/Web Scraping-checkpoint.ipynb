{
 "cells": [
  {
   "cell_type": "code",
   "execution_count": 8,
   "id": "8715e366",
   "metadata": {},
   "outputs": [
    {
     "ename": "ModuleNotFoundError",
     "evalue": "No module named 'netgraph'",
     "output_type": "error",
     "traceback": [
      "\u001b[0;31m---------------------------------------------------------------------------\u001b[0m",
      "\u001b[0;31mModuleNotFoundError\u001b[0m                       Traceback (most recent call last)",
      "\u001b[0;32m/var/folders/7p/2ff0j3b57mx0cybmw11b46qm0000gn/T/ipykernel_82660/3787368493.py\u001b[0m in \u001b[0;36m<module>\u001b[0;34m\u001b[0m\n\u001b[1;32m      2\u001b[0m \u001b[0;32mfrom\u001b[0m \u001b[0mbs4\u001b[0m \u001b[0;32mimport\u001b[0m \u001b[0mBeautifulSoup\u001b[0m\u001b[0;34m\u001b[0m\u001b[0;34m\u001b[0m\u001b[0m\n\u001b[1;32m      3\u001b[0m \u001b[0;32mimport\u001b[0m \u001b[0mpandas\u001b[0m \u001b[0;32mas\u001b[0m \u001b[0mpd\u001b[0m\u001b[0;34m\u001b[0m\u001b[0;34m\u001b[0m\u001b[0m\n\u001b[0;32m----> 4\u001b[0;31m \u001b[0;32mfrom\u001b[0m \u001b[0mnetgraph\u001b[0m \u001b[0;32mimport\u001b[0m \u001b[0mGraph\u001b[0m\u001b[0;34m\u001b[0m\u001b[0;34m\u001b[0m\u001b[0m\n\u001b[0m",
      "\u001b[0;31mModuleNotFoundError\u001b[0m: No module named 'netgraph'"
     ]
    }
   ],
   "source": [
    "import requests\n",
    "from bs4 import BeautifulSoup\n",
    "import pandas as pd\n",
    "from netgraph import Graph"
   ]
  },
  {
   "cell_type": "code",
   "execution_count": 9,
   "id": "79b5024a",
   "metadata": {},
   "outputs": [],
   "source": [
    "# Define the LSE colour\n",
    "LSE_RED = '#ed1c2e'"
   ]
  },
  {
   "cell_type": "markdown",
   "id": "6db8710c",
   "metadata": {},
   "source": [
    "### Define the URLs of the pages we will be scraping"
   ]
  },
  {
   "cell_type": "code",
   "execution_count": 10,
   "id": "74c11dc3",
   "metadata": {},
   "outputs": [],
   "source": [
    "dma_url = \"https://www.lse.ac.uk/Mathematics/Research/Discrete-Mathematics-and-Algorithms\"\n",
    "fin_url = \"https://www.lse.ac.uk/Mathematics/Research/Financial-Mathematics-and-Control-Theory\"\n",
    "game_url = \"https://www.lse.ac.uk/Mathematics/Research/Game-Theory\"\n",
    "or_url = \"https://www.lse.ac.uk/Mathematics/Research/Operations-Research\""
   ]
  },
  {
   "cell_type": "markdown",
   "id": "81a4fbe4",
   "metadata": {},
   "source": [
    "### Create a function to help us scrape a url and return a list of professors\n",
    "* `DMA` : Discrete Maths and Algorithms\n",
    "* `FIN` : Financial Maths\n",
    "* `GAME` : Game Theory\n",
    "* `OR` : Operational Research"
   ]
  },
  {
   "cell_type": "code",
   "execution_count": 11,
   "id": "08be1305",
   "metadata": {},
   "outputs": [],
   "source": [
    "def get_professors(url):\n",
    "    \n",
    "    r = requests.get(url)\n",
    "    soup = BeautifulSoup(r.content, 'lxml')\n",
    "    div = soup.find('div', class_ = \"pageContent pageContent--std\")\n",
    "    # Find all headers\n",
    "    profs = div.find_all('a')\n",
    "    #return profs\n",
    "    \n",
    "    # Extract the text from each header\n",
    "    profs = [prof.text for prof in profs]\n",
    "    #return profs\n",
    "    # Remove the `\\xa0` unicode\n",
    "    profs = [prof.replace('\\xa0', ' ') for prof in profs]\n",
    "    \n",
    "    # Remove whitespace\n",
    "    profs = [prof.strip() for prof in profs]\n",
    "    \n",
    "    return profs"
   ]
  },
  {
   "cell_type": "markdown",
   "id": "32d6c345",
   "metadata": {},
   "source": [
    "### Create the 4 lists of professors"
   ]
  },
  {
   "cell_type": "code",
   "execution_count": 12,
   "id": "7b899aff",
   "metadata": {},
   "outputs": [
    {
     "data": {
      "text/plain": [
       "['Professor Peter Allen',\n",
       " 'Professor Martin Anthony',\n",
       " 'Dr Tugkan Batu',\n",
       " 'Professor Julia Böttcher',\n",
       " 'Professor Graham Brightwell',\n",
       " 'Professor Jan van den Heuvel',\n",
       " 'Professor Andrew Lewis-Pye',\n",
       " 'Dr Emilio Pierro',\n",
       " 'Dr Robert Simon',\n",
       " 'Professor Jozef Skokan',\n",
       " 'Professor Konrad Swanepoel',\n",
       " 'Postdocs',\n",
       " 'Dr Yani Pehova',\n",
       " 'Research Students',\n",
       " 'Francesco Di Braccio',\n",
       " 'Joanna Lada',\n",
       " 'Domenico Mergoni',\n",
       " 'Chhaya Trehan',\n",
       " 'Lu-Ming Zhang']"
      ]
     },
     "execution_count": 12,
     "metadata": {},
     "output_type": "execute_result"
    }
   ],
   "source": [
    "dma_profs = get_professors(dma_url)\n",
    "fin_profs = get_professors(fin_url)\n",
    "game_profs = get_professors(game_url)\n",
    "or_profs = get_professors(or_url)\n",
    "\n",
    "dma_profs"
   ]
  },
  {
   "cell_type": "markdown",
   "id": "4fcac984",
   "metadata": {},
   "source": [
    "### The lists still require some cleaning"
   ]
  },
  {
   "cell_type": "code",
   "execution_count": 14,
   "id": "f901140b",
   "metadata": {},
   "outputs": [],
   "source": [
    "# Clean DMA list\n",
    "dma_profs.pop(5)\n",
    "dma_profs = dma_profs[:-8]"
   ]
  },
  {
   "cell_type": "code",
   "execution_count": 15,
   "id": "cfd29ce3",
   "metadata": {},
   "outputs": [],
   "source": [
    "# Clean FIN list\n",
    "fin_profs.pop(0)\n",
    "fin_profs = fin_profs[:-9]"
   ]
  },
  {
   "cell_type": "code",
   "execution_count": 16,
   "id": "73766723",
   "metadata": {},
   "outputs": [],
   "source": [
    "# Clean GAME list\n",
    "game_profs.pop(2)\n",
    "game_profs.pop(3)\n",
    "game_profs.pop(4)\n",
    "game_profs = game_profs[:-5]"
   ]
  },
  {
   "cell_type": "code",
   "execution_count": 17,
   "id": "8a8348cd",
   "metadata": {},
   "outputs": [],
   "source": [
    "# Clean OR list\n",
    "for i in range(6):\n",
    "    or_profs.pop(1)\n",
    "or_profs = or_profs[:-8]"
   ]
  },
  {
   "cell_type": "markdown",
   "id": "1cc2cdc9",
   "metadata": {},
   "source": [
    "### Create a graph to show the different clusters\n",
    "* We will use Netgraph for the visualisation as it looks slighlty nicer than NetworkX\n",
    "* But we will use NetworkX to find metrics about the network"
   ]
  },
  {
   "cell_type": "code",
   "execution_count": 18,
   "id": "bc04aacf",
   "metadata": {},
   "outputs": [],
   "source": [
    "# Create a list of the 4 areas\n",
    "areas = [\"DMA\", \"FIN\", \"OR\", \"GAME\"]"
   ]
  },
  {
   "cell_type": "code",
   "execution_count": 19,
   "id": "4f4ab5ad",
   "metadata": {},
   "outputs": [],
   "source": [
    "# Create the start of the graph\n",
    "area_edges = [(\"Maths\", area) for area in areas]"
   ]
  },
  {
   "cell_type": "code",
   "execution_count": 20,
   "id": "fc720569",
   "metadata": {},
   "outputs": [
    {
     "ename": "NameError",
     "evalue": "name 'Graph' is not defined",
     "output_type": "error",
     "traceback": [
      "\u001b[0;31m---------------------------------------------------------------------------\u001b[0m",
      "\u001b[0;31mNameError\u001b[0m                                 Traceback (most recent call last)",
      "\u001b[0;32m/var/folders/7p/2ff0j3b57mx0cybmw11b46qm0000gn/T/ipykernel_82660/3972604342.py\u001b[0m in \u001b[0;36m<module>\u001b[0;34m\u001b[0m\n\u001b[1;32m      1\u001b[0m \u001b[0;31m# Initial layout\u001b[0m\u001b[0;34m\u001b[0m\u001b[0;34m\u001b[0m\u001b[0m\n\u001b[0;32m----> 2\u001b[0;31m \u001b[0mGraph\u001b[0m\u001b[0;34m(\u001b[0m\u001b[0marea_edges\u001b[0m\u001b[0;34m,\u001b[0m \u001b[0mnode_layout\u001b[0m\u001b[0;34m=\u001b[0m\u001b[0;34m'radial'\u001b[0m\u001b[0;34m,\u001b[0m \u001b[0mnode_size\u001b[0m \u001b[0;34m=\u001b[0m \u001b[0;36m12\u001b[0m\u001b[0;34m,\u001b[0m \u001b[0mnode_color\u001b[0m \u001b[0;34m=\u001b[0m \u001b[0mLSE_RED\u001b[0m\u001b[0;34m,\u001b[0m \u001b[0mnode_labels\u001b[0m \u001b[0;34m=\u001b[0m \u001b[0;32mTrue\u001b[0m\u001b[0;34m)\u001b[0m\u001b[0;34m;\u001b[0m\u001b[0;34m\u001b[0m\u001b[0;34m\u001b[0m\u001b[0m\n\u001b[0m",
      "\u001b[0;31mNameError\u001b[0m: name 'Graph' is not defined"
     ]
    }
   ],
   "source": [
    "# Initial layout\n",
    "Graph(area_edges, node_layout='radial', node_size = 12, node_color = LSE_RED, node_labels = True);"
   ]
  },
  {
   "cell_type": "markdown",
   "id": "75d6ae74",
   "metadata": {},
   "source": [
    "### A function to create the edges "
   ]
  },
  {
   "cell_type": "code",
   "execution_count": 21,
   "id": "6359f20e",
   "metadata": {},
   "outputs": [],
   "source": [
    "def edges(area, profs):\n",
    "    edges = [(area, prof) for prof in profs]\n",
    "    \n",
    "    return edges"
   ]
  },
  {
   "cell_type": "code",
   "execution_count": 22,
   "id": "57e69c8a",
   "metadata": {},
   "outputs": [],
   "source": [
    "all_profs = dma_profs + fin_profs + game_profs + or_profs"
   ]
  },
  {
   "cell_type": "markdown",
   "id": "6493994f",
   "metadata": {},
   "source": [
    "### A bit of cleaning"
   ]
  },
  {
   "cell_type": "code",
   "execution_count": 23,
   "id": "92eeae20",
   "metadata": {},
   "outputs": [
    {
     "data": {
      "text/plain": [
       "Professor Peter Allen             1\n",
       "Dr Christoph Czichowsky           1\n",
       "Dr Ahmad Abdi                     1\n",
       "Professor Bernhard von Stengel    1\n",
       "Dr Robert Simon                   1\n",
       "Professor Andrew Lewis-Pye        1\n",
       "Professor Olivier Gossner         1\n",
       "Dr Galit Ashkenazi-Golan          1\n",
       "Professor Mihail Zervos           1\n",
       "Professor Luitgard Veraart        1\n",
       "Professor Amol Sasane             1\n",
       "Professor Johannes Ruf            1\n",
       "Professor Adam Ostaszewski        1\n",
       "Dr Arne Lokka                     1\n",
       "                                  1\n",
       "Dr Pavel Gapeev                   1\n",
       "Dr Albina Danilova                1\n",
       "Dr Aled Williams                  1\n",
       "dtype: int64"
      ]
     },
     "execution_count": 23,
     "metadata": {},
     "output_type": "execute_result"
    }
   ],
   "source": [
    "# Check for duplicates (it will make the visualisation look bad)\n",
    "pd.Series(all_profs).value_counts()"
   ]
  },
  {
   "cell_type": "code",
   "execution_count": 24,
   "id": "6dfcef3b",
   "metadata": {},
   "outputs": [
    {
     "data": {
      "text/plain": [
       "(False, False, True, False)"
      ]
     },
     "execution_count": 24,
     "metadata": {},
     "output_type": "execute_result"
    }
   ],
   "source": [
    "# Find what areas the dulicates are in\n",
    "(\"Dr Robert Simon\" in dma_profs, \"Dr Robert Simon\" in fin_profs, \\\n",
    "\"Dr Robert Simon\" in game_profs, \"Dr Robert Simon\" in or_profs)"
   ]
  },
  {
   "cell_type": "code",
   "execution_count": 25,
   "id": "ec093342",
   "metadata": {},
   "outputs": [
    {
     "data": {
      "text/plain": [
       "(False, False, True, False)"
      ]
     },
     "execution_count": 25,
     "metadata": {},
     "output_type": "execute_result"
    }
   ],
   "source": [
    "# Find what areas the dulicates are in\n",
    "(\"Professor Andrew Lewis-Pye\" in dma_profs, \"Professor Andrew Lewis-Pye\" in fin_profs, \\\n",
    "\"Professor Andrew Lewis-Pye\" in game_profs, \"Professor Andrew Lewis-Pye\" in or_profs)"
   ]
  },
  {
   "cell_type": "code",
   "execution_count": 26,
   "id": "a52e9546",
   "metadata": {},
   "outputs": [
    {
     "ename": "ValueError",
     "evalue": "list.remove(x): x not in list",
     "output_type": "error",
     "traceback": [
      "\u001b[0;31m---------------------------------------------------------------------------\u001b[0m",
      "\u001b[0;31mValueError\u001b[0m                                Traceback (most recent call last)",
      "\u001b[0;32m/var/folders/7p/2ff0j3b57mx0cybmw11b46qm0000gn/T/ipykernel_82660/100371131.py\u001b[0m in \u001b[0;36m<module>\u001b[0;34m\u001b[0m\n\u001b[1;32m      1\u001b[0m \u001b[0;31m# Remove them from the longer list\u001b[0m\u001b[0;34m\u001b[0m\u001b[0;34m\u001b[0m\u001b[0m\n\u001b[0;32m----> 2\u001b[0;31m \u001b[0mdma_profs\u001b[0m\u001b[0;34m.\u001b[0m\u001b[0mremove\u001b[0m\u001b[0;34m(\u001b[0m\u001b[0;34m\"Dr Robert Simon\"\u001b[0m\u001b[0;34m)\u001b[0m\u001b[0;34m\u001b[0m\u001b[0;34m\u001b[0m\u001b[0m\n\u001b[0m\u001b[1;32m      3\u001b[0m \u001b[0mdma_profs\u001b[0m\u001b[0;34m.\u001b[0m\u001b[0mremove\u001b[0m\u001b[0;34m(\u001b[0m\u001b[0;34m\"Professor Andrew Lewis-Pye\"\u001b[0m\u001b[0;34m)\u001b[0m\u001b[0;34m\u001b[0m\u001b[0;34m\u001b[0m\u001b[0m\n",
      "\u001b[0;31mValueError\u001b[0m: list.remove(x): x not in list"
     ]
    }
   ],
   "source": [
    "# Remove them from the longer list\n",
    "dma_profs.remove(\"Dr Robert Simon\")\n",
    "dma_profs.remove(\"Professor Andrew Lewis-Pye\")"
   ]
  },
  {
   "cell_type": "markdown",
   "id": "a25def50",
   "metadata": {},
   "source": [
    "### Create a list with all the edges to professors"
   ]
  },
  {
   "cell_type": "code",
   "execution_count": 27,
   "id": "79a5841f",
   "metadata": {},
   "outputs": [],
   "source": [
    "#Create the list of all edges in the graph\n",
    "prof_edges = edges(\"DMA\", dma_profs) + edges(\"GAME\", game_profs) + \\\n",
    "            edges(\"FIN\", fin_profs) + edges(\"OR\", or_profs)"
   ]
  },
  {
   "cell_type": "code",
   "execution_count": 28,
   "id": "222958f5",
   "metadata": {},
   "outputs": [],
   "source": [
    "# Create a list with all edges\n",
    "all_edges = area_edges + prof_edges"
   ]
  },
  {
   "cell_type": "code",
   "execution_count": 29,
   "id": "b0153a33",
   "metadata": {},
   "outputs": [],
   "source": [
    "# Colouring the edges\n",
    "area_colour = {area : 'black' for area in area_edges}\n",
    "dma_colour = {dma_prof : 'purple' for dma_prof in edges(\"DMA\", dma_profs)}\n",
    "fin_colour = {fin_prof : 'green' for fin_prof in edges(\"GAME\", game_profs)}\n",
    "game_colour = {game_prof : 'blue' for game_prof in edges(\"FIN\", fin_profs)}\n",
    "or_colour = {or_prof : 'gold' for or_prof in edges(\"OR\", or_profs)}\n",
    "colouring = area_colour | dma_colour | fin_colour | game_colour | or_colour"
   ]
  },
  {
   "cell_type": "markdown",
   "id": "334908b5",
   "metadata": {},
   "source": [
    "### Final graph layout"
   ]
  },
  {
   "cell_type": "code",
   "execution_count": 229,
   "id": "8e252a0d",
   "metadata": {},
   "outputs": [
    {
     "data": {
      "image/png": "[encoded data removed]",
      "text/plain": [
       "<Figure size 432x288 with 1 Axes>"
      ]
     },
     "metadata": {},
     "output_type": "display_data"
    }
   ],
   "source": [
    "Graph(all_edges, node_layout='radial', node_size = 4, \\\n",
    "      edge_color = colouring, node_color = LSE_RED, node_labels = True);"
   ]
  },
  {
   "cell_type": "markdown",
   "id": "9be2cae1",
   "metadata": {},
   "source": [
    "### Collect the data for interests of professors\n",
    "* We create a list of lists, where each sub-list has the interests of a professor"
   ]
  },
  {
   "cell_type": "code",
   "execution_count": 39,
   "id": "325455a4",
   "metadata": {},
   "outputs": [],
   "source": [
    "def prof_interests(url):\n",
    "\n",
    "    r = requests.get(url)\n",
    "    soup = BeautifulSoup(r.content, 'lxml')\n",
    "    div = soup.find_all('div', class_ = \"accordion__txt\")\n",
    "    # Clean the data\n",
    "    interests = [prof_interests.text for prof_interests in div]\n",
    "    interests = [prof_interests[1:-2] for prof_interests in interests]\n",
    "    interests = [prof_interests.replace('\\n', '.') for prof_interests in interests]\n",
    "    interests = [prof_interests.split('.') for prof_interests in interests]\n",
    "    return interests"
   ]
  },
  {
   "cell_type": "code",
   "execution_count": 40,
   "id": "224a3f6c",
   "metadata": {},
   "outputs": [
    {
     "data": {
      "text/plain": [
       "[['Financial mathematics; stochastic optimal control; stochastic analysis; optimal portfolio choice; market frictions; transaction costs; shadow prices; duality; mean-variance portfolio optimisation',\n",
       "  ''],\n",
       " ['Financial mathematics; derivative pricing and hedging in incomplete markets and/or under asymmetric information;\\xa0 stochastic calculus; stochastic control and optimisation; insider trading; utility maximisation and equilibrium theor'],\n",
       " ['Stochastic calculus; optimal stopping and free-boundary problems; pricing of American options; sequential testing and disorder detection problems; interest rate and credit risk models; illiquidity markets; stochastic impulse control and optimisation; Gaussian processes',\n",
       "  ''],\n",
       " ['Probability and financial mathematics; hedging and pricing of derivatives; utility maximisation and equilibrium theory; real investment decisions under uncertaint'],\n",
       " ['Mathematical finance; real options and accounting theory; corporate disclosure policy and bargaining theory; set-theoretic and general topology; analysi'],\n",
       " ['Financial mathematics; stochastic portfolio theory; stochastic analysis; applied probability; econometrics; economic learning models; green finance;\\xa0financial statistics; financial dat'],\n",
       " ['Applicable analysis; topological algebras (especially Banach algebras of holomorphic functions); partial differential equations; mathematical control theor'],\n",
       " ['Financial mathematics; statistics in finance; risk management in financial markets; systemic risk; networks; modelling of energy markets; optimal investment problems; stochastic volatility models',\n",
       "  ''],\n",
       " ['Stochastic analysis; stochastic control and optimisation; optimal stopping problems; valuation of investment decisions and investments in real options; options of American type; derivative pricing in incomplete markets; weather derivatives',\n",
       "  '']]"
      ]
     },
     "execution_count": 40,
     "metadata": {},
     "output_type": "execute_result"
    }
   ],
   "source": [
    "prof_interests(fin_url)"
   ]
  },
  {
   "cell_type": "markdown",
   "id": "97f7248a",
   "metadata": {},
   "source": [
    "### NLP to tokenise the words"
   ]
  },
  {
   "cell_type": "code",
   "execution_count": 41,
   "id": "e1ed6669",
   "metadata": {},
   "outputs": [
    {
     "name": "stderr",
     "output_type": "stream",
     "text": [
      "[nltk_data] Downloading package punkt to /Users/Goldo/nltk_data...\n",
      "[nltk_data]   Package punkt is already up-to-date!\n"
     ]
    }
   ],
   "source": [
    "import nltk\n",
    "nltk.download('punkt')\n",
    "\n",
    "# define a function to tokenize a list of strings\n",
    "def tokenize(text):\n",
    "    tokens = []\n",
    "    for sentence in text:\n",
    "        tokens.extend(nltk.word_tokenize(sentence.lower()))\n",
    "    return tokens"
   ]
  },
  {
   "cell_type": "code",
   "execution_count": 42,
   "id": "fcee9bfc",
   "metadata": {},
   "outputs": [],
   "source": [
    "# tokenize each sublist in the main list, for each department\n",
    "tokenized_dma_interests = [tokenize(sublist) for sublist in prof_interests(dma_url)]\n",
    "tokenized_fin_interests = [tokenize(sublist) for sublist in prof_interests(fin_url)]\n",
    "tokenized_game_interests = [tokenize(sublist) for sublist in prof_interests(game_url)]\n",
    "tokenized_or_interests = [tokenize(sublist) for sublist in prof_interests(or_url)]"
   ]
  },
  {
   "cell_type": "code",
   "execution_count": 43,
   "id": "47b0b8c7",
   "metadata": {
    "scrolled": false
   },
   "outputs": [
    {
     "data": {
      "text/plain": [
       "[['extremal',\n",
       "  'and',\n",
       "  'probabilistic',\n",
       "  'combinatorics',\n",
       "  ';',\n",
       "  'ramsey',\n",
       "  'theory',\n",
       "  ';',\n",
       "  'graph',\n",
       "  'and',\n",
       "  'hypergraph',\n",
       "  'theory',\n",
       "  ';',\n",
       "  'quasirandom',\n",
       "  'structures',\n",
       "  ';',\n",
       "  'algorithmic',\n",
       "  'combinatoric'],\n",
       " ['mathematical',\n",
       "  'aspects',\n",
       "  'of',\n",
       "  'machine',\n",
       "  'learning',\n",
       "  ';',\n",
       "  'probabilistic',\n",
       "  'modelling',\n",
       "  'of',\n",
       "  'learning',\n",
       "  ';',\n",
       "  'discrete',\n",
       "  'mathematical',\n",
       "  'problems',\n",
       "  'in',\n",
       "  'the',\n",
       "  'theory',\n",
       "  'of',\n",
       "  'learning',\n",
       "  ';',\n",
       "  'boolean',\n",
       "  'function',\n",
       "  'classes',\n",
       "  'and',\n",
       "  'their',\n",
       "  'representation'],\n",
       " ['algorithms',\n",
       "  'and',\n",
       "  'the',\n",
       "  'theory',\n",
       "  'of',\n",
       "  'computation',\n",
       "  ';',\n",
       "  'randomised',\n",
       "  'algorithms',\n",
       "  ';',\n",
       "  'sublinear',\n",
       "  'algorithms',\n",
       "  'on',\n",
       "  'massive',\n",
       "  'data',\n",
       "  'sets',\n",
       "  ';',\n",
       "  'property',\n",
       "  'testing',\n",
       "  ';',\n",
       "  'computational',\n",
       "  'statistic'],\n",
       " ['extremal',\n",
       "  'combinatorics',\n",
       "  ';',\n",
       "  'random',\n",
       "  'discrete',\n",
       "  'structures',\n",
       "  ';',\n",
       "  'ramsey',\n",
       "  'theory',\n",
       "  ';',\n",
       "  'regularity',\n",
       "  'method',\n",
       "  ';',\n",
       "  'graph',\n",
       "  'packing',\n",
       "  ';',\n",
       "  'quasirandomness',\n",
       "  ';',\n",
       "  'algorithmic',\n",
       "  'aspects',\n",
       "  'in',\n",
       "  'combinatoric'],\n",
       " ['combinatorics',\n",
       "  ';',\n",
       "  'finite',\n",
       "  'partially',\n",
       "  'ordered',\n",
       "  'sets',\n",
       "  ';',\n",
       "  'probabilistic',\n",
       "  'methods',\n",
       "  ';',\n",
       "  'algorithmic',\n",
       "  'aspects',\n",
       "  'in',\n",
       "  'combinatorics',\n",
       "  ';',\n",
       "  'random',\n",
       "  'graphs',\n",
       "  ';',\n",
       "  'random',\n",
       "  'structure'],\n",
       " ['graph',\n",
       "  'theory',\n",
       "  ';',\n",
       "  'matroid',\n",
       "  'theory',\n",
       "  ';',\n",
       "  'applications',\n",
       "  'and',\n",
       "  'algorithmic',\n",
       "  'aspects',\n",
       "  'of',\n",
       "  'graph',\n",
       "  'theory',\n",
       "  ';',\n",
       "  'mathematical',\n",
       "  'aspects',\n",
       "  'of',\n",
       "  'frequency',\n",
       "  'assignment',\n",
       "  'problems',\n",
       "  ';',\n",
       "  'network',\n",
       "  'science'],\n",
       " ['logic',\n",
       "  ';',\n",
       "  'computability',\n",
       "  ';',\n",
       "  'discrete',\n",
       "  'mathematics',\n",
       "  ';',\n",
       "  'algorithmic',\n",
       "  'randomness',\n",
       "  ';',\n",
       "  'network',\n",
       "  'science',\n",
       "  ';',\n",
       "  'complex',\n",
       "  'systems',\n",
       "  ';',\n",
       "  'distributed',\n",
       "  'computing',\n",
       "  ';',\n",
       "  'cryptocurrencies'],\n",
       " ['finite',\n",
       "  'group',\n",
       "  'theory',\n",
       "  ';',\n",
       "  'groups',\n",
       "  'of',\n",
       "  'lie',\n",
       "  'type',\n",
       "  ';',\n",
       "  'geometric',\n",
       "  'group',\n",
       "  'theory',\n",
       "  ';',\n",
       "  'combinatorics',\n",
       "  ';',\n",
       "  'generation',\n",
       "  'of',\n",
       "  'finite',\n",
       "  'simple',\n",
       "  'group'],\n",
       " ['measure',\n",
       "  'theory',\n",
       "  ';',\n",
       "  'ergodic',\n",
       "  'theory',\n",
       "  ';',\n",
       "  'functional',\n",
       "  'analysis',\n",
       "  ';',\n",
       "  'stochastic',\n",
       "  'processes',\n",
       "  ';',\n",
       "  'chaos',\n",
       "  'theory',\n",
       "  ';',\n",
       "  'combinatorics',\n",
       "  ';',\n",
       "  'algebraic',\n",
       "  'topology'],\n",
       " ['extremal',\n",
       "  'set',\n",
       "  'theory',\n",
       "  ';',\n",
       "  'quasirandom',\n",
       "  'structures',\n",
       "  ';',\n",
       "  'probabilistic',\n",
       "  'combinatorics',\n",
       "  ';',\n",
       "  'discrete',\n",
       "  'geometry',\n",
       "  ';',\n",
       "  'graph',\n",
       "  'theory',\n",
       "  ';',\n",
       "  'combinatorial',\n",
       "  'games',\n",
       "  ';',\n",
       "  'topics',\n",
       "  'in',\n",
       "  'theoretical',\n",
       "  'computer',\n",
       "  'scienc'],\n",
       " ['discrete',\n",
       "  ',',\n",
       "  'combinatorial',\n",
       "  'and',\n",
       "  'convex',\n",
       "  'geometry',\n",
       "  ';',\n",
       "  'combinatorics',\n",
       "  ';',\n",
       "  'theoretical',\n",
       "  'computer',\n",
       "  'science',\n",
       "  ';',\n",
       "  'algebraic',\n",
       "  'methods',\n",
       "  'in',\n",
       "  'combinatorial',\n",
       "  'geometry']]"
      ]
     },
     "execution_count": 43,
     "metadata": {},
     "output_type": "execute_result"
    }
   ],
   "source": [
    "tokenized_dma_interests"
   ]
  },
  {
   "cell_type": "markdown",
   "id": "9e1486d7",
   "metadata": {},
   "source": [
    "### Convert the tokenised interests into their stems"
   ]
  },
  {
   "cell_type": "code",
   "execution_count": 44,
   "id": "93594d06",
   "metadata": {},
   "outputs": [],
   "source": [
    "# Function  to convert all the words to their stem\n",
    "from nltk.stem import PorterStemmer\n",
    "\n",
    "stemmer = PorterStemmer()\n",
    "\n",
    "def stem_words(word_lists):\n",
    "    stems = []\n",
    "    for words in word_lists:\n",
    "        stem_list = [stemmer.stem(word) for word in words]\n",
    "        stems.append(stem_list)\n",
    "    return stems"
   ]
  },
  {
   "cell_type": "code",
   "execution_count": 38,
   "id": "f3bd2fdf",
   "metadata": {},
   "outputs": [
    {
     "data": {
      "text/plain": [
       "[['ombinatori',\n",
       "  'optimis',\n",
       "  ';',\n",
       "  'integ',\n",
       "  'and',\n",
       "  'linear',\n",
       "  'program',\n",
       "  ';',\n",
       "  'graph',\n",
       "  'theori',\n",
       "  ';',\n",
       "  'matroid',\n",
       "  'theori'],\n",
       " ['iquid',\n",
       "  'democraci',\n",
       "  ';',\n",
       "  'distribut',\n",
       "  'ledger',\n",
       "  'technolog',\n",
       "  ';',\n",
       "  'mechan',\n",
       "  'design',\n",
       "  ';',\n",
       "  'decentralis',\n",
       "  'govern',\n",
       "  'structur',\n",
       "  ';',\n",
       "  'algorithm',\n",
       "  'econom'],\n",
       " ['ombinatori',\n",
       "  'optimis',\n",
       "  'and',\n",
       "  'it',\n",
       "  'intersect',\n",
       "  'with',\n",
       "  'algorithm',\n",
       "  'game',\n",
       "  'theori',\n",
       "  'and',\n",
       "  'probabl',\n",
       "  ';',\n",
       "  'network',\n",
       "  'design',\n",
       "  ';',\n",
       "  'algorithm',\n",
       "  'in',\n",
       "  'network',\n",
       "  'optimis',\n",
       "  'and',\n",
       "  'applic',\n",
       "  'in',\n",
       "  'traffic',\n",
       "  'and',\n",
       "  'telecommunicatio'],\n",
       " ['ultiag',\n",
       "  'learn',\n",
       "  'in',\n",
       "  'price',\n",
       "  'game',\n",
       "  ';',\n",
       "  'search',\n",
       "  'and',\n",
       "  'patrol',\n",
       "  'game',\n",
       "  ';',\n",
       "  'robust',\n",
       "  'optimis',\n",
       "  ';',\n",
       "  'combinatori',\n",
       "  'optimis',\n",
       "  ';',\n",
       "  'approxim',\n",
       "  'dynam',\n",
       "  'program',\n",
       "  'algorithm',\n",
       "  ';',\n",
       "  'applic',\n",
       "  'in',\n",
       "  'wireless',\n",
       "  'network',\n",
       "  ',',\n",
       "  'transport',\n",
       "  ',',\n",
       "  'energi',\n",
       "  'effici',\n",
       "  ',',\n",
       "  'schedul',\n",
       "  ',',\n",
       "  'and',\n",
       "  'financi',\n",
       "  'portfolio',\n",
       "  'optimisatio'],\n",
       " ['andom',\n",
       "  'graph',\n",
       "  'and',\n",
       "  'random',\n",
       "  'structur',\n",
       "  ';',\n",
       "  'phase',\n",
       "  'transit',\n",
       "  ';',\n",
       "  'average-cas',\n",
       "  'analysi',\n",
       "  ';',\n",
       "  'exponential-tim',\n",
       "  'algorithm',\n",
       "  ';',\n",
       "  'and',\n",
       "  'applic',\n",
       "  'in',\n",
       "  'oper',\n",
       "  'research',\n",
       "  ',',\n",
       "  'biolog',\n",
       "  ',',\n",
       "  'auction',\n",
       "  ',',\n",
       "  'etc'],\n",
       " ['ombinatori',\n",
       "  'optimis',\n",
       "  ';',\n",
       "  'graph',\n",
       "  'theori',\n",
       "  ';',\n",
       "  'discret',\n",
       "  'mathemat',\n",
       "  ';',\n",
       "  'algorithm',\n",
       "  'game',\n",
       "  'theor'],\n",
       " ['nteger',\n",
       "  'optimis',\n",
       "  ';',\n",
       "  'knapsack',\n",
       "  'problem',\n",
       "  ';',\n",
       "  'discret',\n",
       "  'mathemat',\n",
       "  ';',\n",
       "  'geometri',\n",
       "  'of',\n",
       "  'number',\n",
       "  ';',\n",
       "  'diophantin',\n",
       "  'equat',\n",
       "  ';',\n",
       "  'oper',\n",
       "  'researc'],\n",
       " ['nteger',\n",
       "  'program',\n",
       "  ';',\n",
       "  'combinatori',\n",
       "  'optim',\n",
       "  ';',\n",
       "  'polyhedr',\n",
       "  'combinator',\n",
       "  ';',\n",
       "  '0/1',\n",
       "  'matric',\n",
       "  ';',\n",
       "  'graph',\n",
       "  'theor']]"
      ]
     },
     "execution_count": 38,
     "metadata": {},
     "output_type": "execute_result"
    }
   ],
   "source": [
    "stems_interests_dma = stem_words(tokenized_dma_interests)\n",
    "stems_interests_fin = stem_words(tokenized_fin_interests)\n",
    "stems_interests_game = stem_words(tokenized_game_interests)\n",
    "stems_interests_or = stem_words(tokenized_or_interests)\n",
    "stems_interests_or"
   ]
  },
  {
   "cell_type": "markdown",
   "id": "4f3b76a7",
   "metadata": {},
   "source": [
    "### Create a DataFrame\n",
    "* We will have the professor as a column name\n",
    "* Then their interests underneath"
   ]
  },
  {
   "cell_type": "code",
   "execution_count": 231,
   "id": "fb23e667",
   "metadata": {},
   "outputs": [],
   "source": [
    "df = pd.DataFrame(columns = all_profs)"
   ]
  },
  {
   "cell_type": "code",
   "execution_count": 232,
   "id": "4d6166ab",
   "metadata": {},
   "outputs": [
    {
     "data": {
      "text/html": [
       "<div>\n",
       "<style scoped>\n",
       "    .dataframe tbody tr th:only-of-type {\n",
       "        vertical-align: middle;\n",
       "    }\n",
       "\n",
       "    .dataframe tbody tr th {\n",
       "        vertical-align: top;\n",
       "    }\n",
       "\n",
       "    .dataframe thead th {\n",
       "        text-align: right;\n",
       "    }\n",
       "</style>\n",
       "<table border=\"1\" class=\"dataframe\">\n",
       "  <thead>\n",
       "    <tr style=\"text-align: right;\">\n",
       "      <th></th>\n",
       "      <th>Professor Peter Allen</th>\n",
       "      <th>Professor Martin Anthony</th>\n",
       "      <th>Dr Tugkan Batu</th>\n",
       "      <th>Professor Julia Böttcher</th>\n",
       "      <th>Professor Graham Brightwell</th>\n",
       "      <th>Professor Jan van den Heuvel</th>\n",
       "      <th>Professor Andrew Lewis-Pye</th>\n",
       "      <th>Dr Emilio Pierro</th>\n",
       "      <th>Dr Robert Simon</th>\n",
       "      <th>Professor Jozef Skokan</th>\n",
       "      <th>...</th>\n",
       "      <th>Professor Andrew Lewis-Pye</th>\n",
       "      <th>Dr Robert Simon</th>\n",
       "      <th>Professor Bernhard von Stengel</th>\n",
       "      <th>Dr Ahmad Abdi</th>\n",
       "      <th>Dr Grammateia Kotsialou</th>\n",
       "      <th>Dr Neil Olver</th>\n",
       "      <th>Dr Katerina Papadaki</th>\n",
       "      <th>Professor Gregory Sorkin</th>\n",
       "      <th>Professor László Végh</th>\n",
       "      <th>Dr Aled Williams</th>\n",
       "    </tr>\n",
       "  </thead>\n",
       "  <tbody>\n",
       "  </tbody>\n",
       "</table>\n",
       "<p>0 rows × 32 columns</p>\n",
       "</div>"
      ],
      "text/plain": [
       "Empty DataFrame\n",
       "Columns: [Professor Peter Allen, Professor Martin Anthony, Dr Tugkan Batu, Professor Julia Böttcher, Professor Graham Brightwell, Professor Jan van den Heuvel, Professor Andrew Lewis-Pye, Dr Emilio Pierro, Dr Robert Simon, Professor Jozef Skokan, Professor Konrad Swanepoel, Dr Christoph Czichowsky, Dr Albina Danilova, Dr Pavel Gapeev, Dr Arne Lokka, Professor Adam Ostaszewski, Professor Johannes Ruf, Professor Amol Sasane, Professor Luitgard Veraart, Professor Mihail Zervos, Dr Galit Ashkenazi-Golan, Professor Olivier Gossner, Professor Andrew Lewis-Pye, Dr Robert Simon, Professor Bernhard von Stengel, Dr Ahmad Abdi, Dr Grammateia Kotsialou, Dr Neil Olver, Dr Katerina Papadaki, Professor Gregory Sorkin, Professor László Végh, Dr Aled Williams]\n",
       "Index: []\n",
       "\n",
       "[0 rows x 32 columns]"
      ]
     },
     "execution_count": 232,
     "metadata": {},
     "output_type": "execute_result"
    }
   ],
   "source": [
    "df "
   ]
  },
  {
   "cell_type": "code",
   "execution_count": null,
   "id": "fbf8bc02",
   "metadata": {},
   "outputs": [],
   "source": []
  }
 ],
 "metadata": {
  "kernelspec": {
   "display_name": "Python 3 (ipykernel)",
   "language": "python",
   "name": "python3"
  },
  "language_info": {
   "codemirror_mode": {
    "name": "ipython",
    "version": 3
   },
   "file_extension": ".py",
   "mimetype": "text/x-python",
   "name": "python",
   "nbconvert_exporter": "python",
   "pygments_lexer": "ipython3",
   "version": "3.9.7"
  }
 },
 "nbformat": 4,
 "nbformat_minor": 5
}
