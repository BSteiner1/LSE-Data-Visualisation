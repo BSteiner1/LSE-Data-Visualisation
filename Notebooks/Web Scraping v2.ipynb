{
 "cells": [
  {
   "cell_type": "code",
   "execution_count": 1,
   "id": "8715e366",
   "metadata": {},
   "outputs": [],
   "source": [
    "import requests\n",
    "from bs4 import BeautifulSoup\n",
    "import pandas as pd\n",
    "from netgraph import Graph\n",
    "import networkx as nx\n",
    "from itertools import combinations\n",
    "import matplotlib.pyplot as plt"
   ]
  },
  {
   "cell_type": "code",
   "execution_count": 2,
   "id": "79b5024a",
   "metadata": {},
   "outputs": [],
   "source": [
    "# Define the LSE colour\n",
    "LSE_RED = '#ed1c2e'"
   ]
  },
  {
   "cell_type": "markdown",
   "id": "6db8710c",
   "metadata": {},
   "source": [
    "### Define the URLs of the pages we will be scraping"
   ]
  },
  {
   "cell_type": "code",
   "execution_count": 3,
   "id": "74c11dc3",
   "metadata": {},
   "outputs": [],
   "source": [
    "dma_url = \"https://www.lse.ac.uk/Mathematics/Research/Discrete-Mathematics-and-Algorithms\"\n",
    "fin_url = \"https://www.lse.ac.uk/Mathematics/Research/Financial-Mathematics-and-Control-Theory\"\n",
    "game_url = \"https://www.lse.ac.uk/Mathematics/Research/Game-Theory\"\n",
    "or_url = \"https://www.lse.ac.uk/Mathematics/Research/Operations-Research\""
   ]
  },
  {
   "cell_type": "markdown",
   "id": "81a4fbe4",
   "metadata": {},
   "source": [
    "### Create a function to help us scrape a url and return a list of professors\n",
    "* `DMA` : Discrete Maths and Algorithms\n",
    "* `FIN` : Financial Maths\n",
    "* `GAME` : Game Theory\n",
    "* `OR` : Operational Research"
   ]
  },
  {
   "cell_type": "code",
   "execution_count": 4,
   "id": "08be1305",
   "metadata": {},
   "outputs": [],
   "source": [
    "def get_professors(url):\n",
    "    \n",
    "    r = requests.get(url)\n",
    "    soup = BeautifulSoup(r.content, 'lxml')\n",
    "    div = soup.find('div', class_ = \"pageContent pageContent--std\")\n",
    "    # Find all headers\n",
    "    profs = div.find_all('a')\n",
    "    #return profs\n",
    "    \n",
    "    # Extract the text from each header\n",
    "    profs = [prof.text for prof in profs]\n",
    "    #return profs\n",
    "    # Remove the `\\xa0` unicode\n",
    "    profs = [prof.replace('\\xa0', ' ') for prof in profs]\n",
    "    \n",
    "    # Remove whitespace\n",
    "    profs = [prof.strip() for prof in profs]\n",
    "    \n",
    "    return profs"
   ]
  },
  {
   "cell_type": "markdown",
   "id": "32d6c345",
   "metadata": {},
   "source": [
    "### Create the 4 lists of professors"
   ]
  },
  {
   "cell_type": "code",
   "execution_count": 5,
   "id": "7b899aff",
   "metadata": {},
   "outputs": [
    {
     "data": {
      "text/plain": [
       "['Dr Ahmad Abdi',\n",
       " '',\n",
       " 'Dr Grammateia Kotsialou',\n",
       " 'Dr Neil Olver',\n",
       " 'Dr Katerina Papadaki',\n",
       " 'Professor Gregory Sorki',\n",
       " 'Professor László Végh',\n",
       " 'Dr Aled Williams',\n",
       " 'Dr Giacomo Zambelli',\n",
       " 'Postdocs',\n",
       " 'Dr Franziska Eberle',\n",
       " 'Dr Christoph Hertrich',\n",
       " 'Dr Sharat Ibrahimpur',\n",
       " 'Research Students',\n",
       " 'Karl Stickler',\n",
       " 'Rulian Wang']"
      ]
     },
     "execution_count": 5,
     "metadata": {},
     "output_type": "execute_result"
    }
   ],
   "source": [
    "dma_profs = get_professors(dma_url)\n",
    "fin_profs = get_professors(fin_url)\n",
    "game_profs = get_professors(game_url)\n",
    "or_profs = get_professors(or_url)\n",
    "\n",
    "or_profs"
   ]
  },
  {
   "cell_type": "markdown",
   "id": "4fcac984",
   "metadata": {},
   "source": [
    "### The lists still require some cleaning"
   ]
  },
  {
   "cell_type": "code",
   "execution_count": 6,
   "id": "f901140b",
   "metadata": {},
   "outputs": [],
   "source": [
    "# Clean DMA list\n",
    "dma_profs.pop(5)\n",
    "dma_profs = dma_profs[:-8]"
   ]
  },
  {
   "cell_type": "code",
   "execution_count": 7,
   "id": "cfd29ce3",
   "metadata": {},
   "outputs": [
    {
     "data": {
      "text/plain": [
       "''"
      ]
     },
     "execution_count": 7,
     "metadata": {},
     "output_type": "execute_result"
    }
   ],
   "source": [
    "# Clean FIN list\n",
    "fin_profs.pop(0)\n",
    "fin_profs = fin_profs[:-9]\n",
    "fin_profs.pop(3)"
   ]
  },
  {
   "cell_type": "code",
   "execution_count": 8,
   "id": "73766723",
   "metadata": {},
   "outputs": [],
   "source": [
    "# Clean GAME list\n",
    "game_profs.pop(2)\n",
    "game_profs.pop(3)\n",
    "game_profs.pop(4)\n",
    "game_profs = game_profs[:-5]"
   ]
  },
  {
   "cell_type": "code",
   "execution_count": 9,
   "id": "d2228315",
   "metadata": {},
   "outputs": [],
   "source": [
    "# Clean OR list\n",
    "or_profs.pop(1)\n",
    "or_profs = or_profs[:-7]"
   ]
  },
  {
   "cell_type": "code",
   "execution_count": 10,
   "id": "e7614a1f",
   "metadata": {},
   "outputs": [
    {
     "data": {
      "text/plain": [
       "['Dr Ahmad Abdi',\n",
       " 'Dr Grammateia Kotsialou',\n",
       " 'Dr Neil Olver',\n",
       " 'Dr Katerina Papadaki',\n",
       " 'Professor Gregory Sorki',\n",
       " 'Professor László Végh',\n",
       " 'Dr Aled Williams',\n",
       " 'Dr Giacomo Zambelli']"
      ]
     },
     "execution_count": 10,
     "metadata": {},
     "output_type": "execute_result"
    }
   ],
   "source": [
    "or_profs"
   ]
  },
  {
   "cell_type": "markdown",
   "id": "1cc2cdc9",
   "metadata": {},
   "source": [
    "### Create a graph to show the different clusters\n",
    "* We will use Netgraph for the visualisation as it looks slighlty nicer than NetworkX\n",
    "* But we will use NetworkX to find metrics about the network"
   ]
  },
  {
   "cell_type": "code",
   "execution_count": 11,
   "id": "bc04aacf",
   "metadata": {},
   "outputs": [],
   "source": [
    "# Create a list of the 4 areas\n",
    "areas = [\"DMA\", \"FIN\", \"OR\", \"GAME\"]"
   ]
  },
  {
   "cell_type": "code",
   "execution_count": 12,
   "id": "4f4ab5ad",
   "metadata": {},
   "outputs": [],
   "source": [
    "# Create the start of the graph\n",
    "area_edges = [(\"Maths\", area) for area in areas]"
   ]
  },
  {
   "cell_type": "code",
   "execution_count": 13,
   "id": "fc720569",
   "metadata": {},
   "outputs": [
    {
     "data": {
      "image/png": "[encoded data removed]",
      "text/plain": [
       "<Figure size 640x480 with 1 Axes>"
      ]
     },
     "metadata": {},
     "output_type": "display_data"
    }
   ],
   "source": [
    "# Initial layout\n",
    "Graph(area_edges, node_layout='radial', node_size = 12, node_color = LSE_RED, node_labels = True);"
   ]
  },
  {
   "cell_type": "markdown",
   "id": "75d6ae74",
   "metadata": {},
   "source": [
    "### A function to create the edges "
   ]
  },
  {
   "cell_type": "code",
   "execution_count": 14,
   "id": "6359f20e",
   "metadata": {},
   "outputs": [],
   "source": [
    "def edges(area, profs):\n",
    "    edges = [(area, prof) for prof in profs]\n",
    "    \n",
    "    return edges"
   ]
  },
  {
   "cell_type": "code",
   "execution_count": 15,
   "id": "57e69c8a",
   "metadata": {},
   "outputs": [],
   "source": [
    "all_profs = dma_profs + fin_profs + game_profs + or_profs"
   ]
  },
  {
   "cell_type": "markdown",
   "id": "6493994f",
   "metadata": {},
   "source": [
    "### A bit of cleaning"
   ]
  },
  {
   "cell_type": "code",
   "execution_count": 16,
   "id": "92eeae20",
   "metadata": {},
   "outputs": [
    {
     "data": {
      "text/plain": [
       "Dr Robert Simon                   2\n",
       "Professor Andrew Lewis-Pye        2\n",
       "Professor Graham Brightwell       1\n",
       "Dr Grammateia Kotsialou           1\n",
       "Professor Amol Sasane             1\n",
       "Dr Katerina Papadaki              1\n",
       "Dr Emilio Pierro                  1\n",
       "Professor Bernhard von Stengel    1\n",
       "Dr Pavel Gapeev                   1\n",
       "Dr Arne Lokka                     1\n",
       "Professor Jozef Skokan            1\n",
       "Professor Mihail Zervos           1\n",
       "Professor Johannes Ruf            1\n",
       "Dr Aled Williams                  1\n",
       "Dr Tugkan Batu                    1\n",
       "Dr Giacomo Zambelli               1\n",
       "Professor Luitgard Veraart        1\n",
       "Professor László Végh             1\n",
       "Professor Gregory Sorki           1\n",
       "Professor Konrad Swanepoel        1\n",
       "Dr Galit Ashkenazi-Golan          1\n",
       "Professor Julia Böttcher          1\n",
       "Dr Christoph Czichowsky           1\n",
       "Dr Neil Olver                     1\n",
       "Professor Peter Allen             1\n",
       "Dr Ahmad Abdi                     1\n",
       "Dr Albina Danilova                1\n",
       "Professor Olivier Gossner         1\n",
       "Professor Adam Ostaszewski        1\n",
       "Professor Martin Anthony          1\n",
       "dtype: int64"
      ]
     },
     "execution_count": 16,
     "metadata": {},
     "output_type": "execute_result"
    }
   ],
   "source": [
    "# Check for duplicates (it will make the visualisation look bad)\n",
    "pd.Series(all_profs).value_counts()"
   ]
  },
  {
   "cell_type": "code",
   "execution_count": 17,
   "id": "6dfcef3b",
   "metadata": {},
   "outputs": [
    {
     "data": {
      "text/plain": [
       "(True, False, True, False)"
      ]
     },
     "execution_count": 17,
     "metadata": {},
     "output_type": "execute_result"
    }
   ],
   "source": [
    "# Find what areas the dulicates are in\n",
    "(\"Dr Robert Simon\" in dma_profs, \"Dr Robert Simon\" in fin_profs, \\\n",
    "\"Dr Robert Simon\" in game_profs, \"Dr Robert Simon\" in or_profs)"
   ]
  },
  {
   "cell_type": "code",
   "execution_count": 18,
   "id": "ec093342",
   "metadata": {},
   "outputs": [
    {
     "data": {
      "text/plain": [
       "(True, False, True, False)"
      ]
     },
     "execution_count": 18,
     "metadata": {},
     "output_type": "execute_result"
    }
   ],
   "source": [
    "# Find what areas the dulicates are in\n",
    "(\"Professor Andrew Lewis-Pye\" in dma_profs, \"Professor Andrew Lewis-Pye\" in fin_profs, \\\n",
    "\"Professor Andrew Lewis-Pye\" in game_profs, \"Professor Andrew Lewis-Pye\" in or_profs)"
   ]
  },
  {
   "cell_type": "code",
   "execution_count": 19,
   "id": "a52e9546",
   "metadata": {},
   "outputs": [],
   "source": [
    "# Remove them from the longer list\n",
    "dma_profs.remove(\"Dr Robert Simon\")\n",
    "dma_profs.remove(\"Professor Andrew Lewis-Pye\")"
   ]
  },
  {
   "cell_type": "markdown",
   "id": "a25def50",
   "metadata": {},
   "source": [
    "### Create a list with all the edges to professors"
   ]
  },
  {
   "cell_type": "code",
   "execution_count": 20,
   "id": "79a5841f",
   "metadata": {},
   "outputs": [],
   "source": [
    "#Create the list of all edges in the graph\n",
    "prof_edges = edges(\"DMA\", dma_profs) + edges(\"GAME\", game_profs) + \\\n",
    "            edges(\"FIN\", fin_profs) + edges(\"OR\", or_profs)"
   ]
  },
  {
   "cell_type": "code",
   "execution_count": 21,
   "id": "222958f5",
   "metadata": {},
   "outputs": [],
   "source": [
    "# Create a list with all edges\n",
    "all_edges = area_edges + prof_edges"
   ]
  },
  {
   "cell_type": "code",
   "execution_count": 22,
   "id": "b0153a33",
   "metadata": {},
   "outputs": [],
   "source": [
    "# Colouring the edges\n",
    "area_colour = {area : 'black' for area in area_edges}\n",
    "dma_colour = {dma_prof : 'purple' for dma_prof in edges(\"DMA\", dma_profs)}\n",
    "fin_colour = {fin_prof : 'green' for fin_prof in edges(\"GAME\", game_profs)}\n",
    "game_colour = {game_prof : 'blue' for game_prof in edges(\"FIN\", fin_profs)}\n",
    "or_colour = {or_prof : 'gold' for or_prof in edges(\"OR\", or_profs)}\n",
    "colouring = area_colour | dma_colour | fin_colour | game_colour | or_colour"
   ]
  },
  {
   "cell_type": "markdown",
   "id": "334908b5",
   "metadata": {},
   "source": [
    "### Final graph layout"
   ]
  },
  {
   "cell_type": "code",
   "execution_count": 23,
   "id": "8e252a0d",
   "metadata": {},
   "outputs": [
    {
     "data": {
      "image/png": "[encoded data removed]",
      "text/plain": [
       "<Figure size 640x480 with 1 Axes>"
      ]
     },
     "metadata": {},
     "output_type": "display_data"
    }
   ],
   "source": [
    "Graph(all_edges, node_layout='radial', node_size = 4, \\\n",
    "      edge_color = colouring, node_color = LSE_RED, node_labels = True);"
   ]
  },
  {
   "cell_type": "markdown",
   "id": "9be2cae1",
   "metadata": {},
   "source": [
    "### Collect the data for interests of professors\n",
    "* We create a list of lists, where each sub-list has the interests of a professor"
   ]
  },
  {
   "cell_type": "code",
   "execution_count": 24,
   "id": "325455a4",
   "metadata": {},
   "outputs": [],
   "source": [
    "def prof_interests(url):\n",
    "\n",
    "    r = requests.get(url)\n",
    "    soup = BeautifulSoup(r.content, 'lxml')\n",
    "    div = soup.find_all('div', class_ = \"accordion__txt\")\n",
    "    # Clean the data\n",
    "    interests = [prof_interests.text for prof_interests in div]\n",
    "    interests = [prof_interests[1:-2] for prof_interests in interests]\n",
    "    interests = [prof_interests.replace('\\n', '.') for prof_interests in interests]\n",
    "    interests = [prof_interests.split('.') for prof_interests in interests]\n",
    "    return interests"
   ]
  },
  {
   "cell_type": "code",
   "execution_count": 25,
   "id": "224a3f6c",
   "metadata": {},
   "outputs": [
    {
     "data": {
      "text/plain": [
       "[['Financial mathematics; stochastic optimal control; stochastic analysis; optimal portfolio choice; market frictions; transaction costs; shadow prices; duality; mean-variance portfolio optimisation',\n",
       "  ''],\n",
       " ['Financial mathematics; derivative pricing and hedging in incomplete markets and/or under asymmetric information;\\xa0 stochastic calculus; stochastic control and optimisation; insider trading; utility maximisation and equilibrium theor'],\n",
       " ['Stochastic calculus; optimal stopping and free-boundary problems; pricing of American options; sequential testing and disorder detection problems; interest rate and credit risk models; illiquidity markets; stochastic impulse control and optimisation; Gaussian processes',\n",
       "  ''],\n",
       " ['Probability and financial mathematics; hedging and pricing of derivatives; utility maximisation and equilibrium theory; real investment decisions under uncertaint'],\n",
       " ['Mathematical finance; real options and accounting theory; corporate disclosure policy and bargaining theory; set-theoretic and general topology; analysi'],\n",
       " ['Financial mathematics; stochastic portfolio theory; stochastic analysis; applied probability; econometrics; economic learning models; green finance;\\xa0financial statistics; financial dat'],\n",
       " ['Applicable analysis; topological algebras (especially Banach algebras of holomorphic functions); partial differential equations; mathematical control theor'],\n",
       " ['Financial mathematics; statistics in finance; risk management in financial markets; systemic risk; networks; modelling of energy markets; optimal investment problems; stochastic volatility models',\n",
       "  ''],\n",
       " ['Stochastic analysis; stochastic control and optimisation; optimal stopping problems; valuation of investment decisions and investments in real options; options of American type; derivative pricing in incomplete markets; weather derivatives',\n",
       "  '']]"
      ]
     },
     "execution_count": 25,
     "metadata": {},
     "output_type": "execute_result"
    }
   ],
   "source": [
    "prof_interests(fin_url)"
   ]
  },
  {
   "cell_type": "markdown",
   "id": "97f7248a",
   "metadata": {},
   "source": [
    "### NLP to tokenise the words"
   ]
  },
  {
   "cell_type": "code",
   "execution_count": 26,
   "id": "e1ed6669",
   "metadata": {},
   "outputs": [
    {
     "name": "stderr",
     "output_type": "stream",
     "text": [
      "[nltk_data] Downloading package punkt to\n",
      "[nltk_data]     C:\\Users\\bbste\\AppData\\Roaming\\nltk_data...\n",
      "[nltk_data]   Package punkt is already up-to-date!\n"
     ]
    }
   ],
   "source": [
    "import nltk\n",
    "nltk.download('punkt')\n",
    "\n",
    "# define a function to tokenize a list of strings\n",
    "def tokenize(text):\n",
    "    tokens = []\n",
    "    for sentence in text:\n",
    "        tokens.extend(nltk.word_tokenize(sentence.lower()))\n",
    "    return tokens"
   ]
  },
  {
   "cell_type": "code",
   "execution_count": 27,
   "id": "fcee9bfc",
   "metadata": {},
   "outputs": [],
   "source": [
    "# tokenize each sublist in the main list, for each department\n",
    "tokenized_dma_interests = [tokenize(sublist) for sublist in prof_interests(dma_url)]\n",
    "tokenized_fin_interests = [tokenize(sublist) for sublist in prof_interests(fin_url)]\n",
    "tokenized_game_interests = [tokenize(sublist) for sublist in prof_interests(game_url)]\n",
    "tokenized_or_interests = [tokenize(sublist) for sublist in prof_interests(or_url)]"
   ]
  },
  {
   "cell_type": "code",
   "execution_count": 28,
   "id": "47b0b8c7",
   "metadata": {
    "scrolled": false
   },
   "outputs": [
    {
     "data": {
      "text/plain": [
       "[['extremal',\n",
       "  'and',\n",
       "  'probabilistic',\n",
       "  'combinatorics',\n",
       "  ';',\n",
       "  'ramsey',\n",
       "  'theory',\n",
       "  ';',\n",
       "  'graph',\n",
       "  'and',\n",
       "  'hypergraph',\n",
       "  'theory',\n",
       "  ';',\n",
       "  'quasirandom',\n",
       "  'structures',\n",
       "  ';',\n",
       "  'algorithmic',\n",
       "  'combinatoric'],\n",
       " ['mathematical',\n",
       "  'aspects',\n",
       "  'of',\n",
       "  'machine',\n",
       "  'learning',\n",
       "  ';',\n",
       "  'probabilistic',\n",
       "  'modelling',\n",
       "  'of',\n",
       "  'learning',\n",
       "  ';',\n",
       "  'discrete',\n",
       "  'mathematical',\n",
       "  'problems',\n",
       "  'in',\n",
       "  'the',\n",
       "  'theory',\n",
       "  'of',\n",
       "  'learning',\n",
       "  ';',\n",
       "  'boolean',\n",
       "  'function',\n",
       "  'classes',\n",
       "  'and',\n",
       "  'their',\n",
       "  'representation'],\n",
       " ['algorithms',\n",
       "  'and',\n",
       "  'the',\n",
       "  'theory',\n",
       "  'of',\n",
       "  'computation',\n",
       "  ';',\n",
       "  'randomised',\n",
       "  'algorithms',\n",
       "  ';',\n",
       "  'sublinear',\n",
       "  'algorithms',\n",
       "  'on',\n",
       "  'massive',\n",
       "  'data',\n",
       "  'sets',\n",
       "  ';',\n",
       "  'property',\n",
       "  'testing',\n",
       "  ';',\n",
       "  'computational',\n",
       "  'statistic'],\n",
       " ['extremal',\n",
       "  'combinatorics',\n",
       "  ';',\n",
       "  'random',\n",
       "  'discrete',\n",
       "  'structures',\n",
       "  ';',\n",
       "  'ramsey',\n",
       "  'theory',\n",
       "  ';',\n",
       "  'regularity',\n",
       "  'method',\n",
       "  ';',\n",
       "  'graph',\n",
       "  'packing',\n",
       "  ';',\n",
       "  'quasirandomness',\n",
       "  ';',\n",
       "  'algorithmic',\n",
       "  'aspects',\n",
       "  'in',\n",
       "  'combinatoric'],\n",
       " ['combinatorics',\n",
       "  ';',\n",
       "  'finite',\n",
       "  'partially',\n",
       "  'ordered',\n",
       "  'sets',\n",
       "  ';',\n",
       "  'probabilistic',\n",
       "  'methods',\n",
       "  ';',\n",
       "  'algorithmic',\n",
       "  'aspects',\n",
       "  'in',\n",
       "  'combinatorics',\n",
       "  ';',\n",
       "  'random',\n",
       "  'graphs',\n",
       "  ';',\n",
       "  'random',\n",
       "  'structure'],\n",
       " ['graph',\n",
       "  'theory',\n",
       "  ';',\n",
       "  'matroid',\n",
       "  'theory',\n",
       "  ';',\n",
       "  'applications',\n",
       "  'and',\n",
       "  'algorithmic',\n",
       "  'aspects',\n",
       "  'of',\n",
       "  'graph',\n",
       "  'theory',\n",
       "  ';',\n",
       "  'mathematical',\n",
       "  'aspects',\n",
       "  'of',\n",
       "  'frequency',\n",
       "  'assignment',\n",
       "  'problems',\n",
       "  ';',\n",
       "  'network',\n",
       "  'science'],\n",
       " ['logic',\n",
       "  ';',\n",
       "  'computability',\n",
       "  ';',\n",
       "  'discrete',\n",
       "  'mathematics',\n",
       "  ';',\n",
       "  'algorithmic',\n",
       "  'randomness',\n",
       "  ';',\n",
       "  'network',\n",
       "  'science',\n",
       "  ';',\n",
       "  'complex',\n",
       "  'systems',\n",
       "  ';',\n",
       "  'distributed',\n",
       "  'computing',\n",
       "  ';',\n",
       "  'cryptocurrencies'],\n",
       " ['finite',\n",
       "  'group',\n",
       "  'theory',\n",
       "  ';',\n",
       "  'groups',\n",
       "  'of',\n",
       "  'lie',\n",
       "  'type',\n",
       "  ';',\n",
       "  'geometric',\n",
       "  'group',\n",
       "  'theory',\n",
       "  ';',\n",
       "  'combinatorics',\n",
       "  ';',\n",
       "  'generation',\n",
       "  'of',\n",
       "  'finite',\n",
       "  'simple',\n",
       "  'group'],\n",
       " ['measure',\n",
       "  'theory',\n",
       "  ';',\n",
       "  'ergodic',\n",
       "  'theory',\n",
       "  ';',\n",
       "  'functional',\n",
       "  'analysis',\n",
       "  ';',\n",
       "  'stochastic',\n",
       "  'processes',\n",
       "  ';',\n",
       "  'chaos',\n",
       "  'theory',\n",
       "  ';',\n",
       "  'combinatorics',\n",
       "  ';',\n",
       "  'algebraic',\n",
       "  'topology'],\n",
       " ['extremal',\n",
       "  'set',\n",
       "  'theory',\n",
       "  ';',\n",
       "  'quasirandom',\n",
       "  'structures',\n",
       "  ';',\n",
       "  'probabilistic',\n",
       "  'combinatorics',\n",
       "  ';',\n",
       "  'discrete',\n",
       "  'geometry',\n",
       "  ';',\n",
       "  'graph',\n",
       "  'theory',\n",
       "  ';',\n",
       "  'combinatorial',\n",
       "  'games',\n",
       "  ';',\n",
       "  'topics',\n",
       "  'in',\n",
       "  'theoretical',\n",
       "  'computer',\n",
       "  'scienc'],\n",
       " ['discrete',\n",
       "  ',',\n",
       "  'combinatorial',\n",
       "  'and',\n",
       "  'convex',\n",
       "  'geometry',\n",
       "  ';',\n",
       "  'combinatorics',\n",
       "  ';',\n",
       "  'theoretical',\n",
       "  'computer',\n",
       "  'science',\n",
       "  ';',\n",
       "  'algebraic',\n",
       "  'methods',\n",
       "  'in',\n",
       "  'combinatorial',\n",
       "  'geometry']]"
      ]
     },
     "execution_count": 28,
     "metadata": {},
     "output_type": "execute_result"
    }
   ],
   "source": [
    "tokenized_dma_interests"
   ]
  },
  {
   "cell_type": "markdown",
   "id": "d3bf9a62",
   "metadata": {},
   "source": [
    "### Convert the tokenised interests into their stems, and clean the data to keep essential words"
   ]
  },
  {
   "cell_type": "code",
   "execution_count": 34,
   "id": "5fbbdf57",
   "metadata": {},
   "outputs": [
    {
     "name": "stderr",
     "output_type": "stream",
     "text": [
      "[nltk_data] Downloading package stopwords to\n",
      "[nltk_data]     C:\\Users\\bbste\\AppData\\Roaming\\nltk_data...\n",
      "[nltk_data]   Package stopwords is already up-to-date!\n"
     ]
    }
   ],
   "source": [
    "import nltk\n",
    "from nltk.corpus import stopwords\n",
    "from nltk.stem import PorterStemmer\n",
    "\n",
    "\n",
    "nltk.download('stopwords')\n",
    "\n",
    "def clean_text(text):\n",
    "    stemmer = PorterStemmer()\n",
    "    cleaned_text = []\n",
    "    for words in text:\n",
    "        # Tokenize words in each sublist\n",
    "        words = nltk.word_tokenize(' '.join(words))\n",
    "        # Remove stop words\n",
    "        words = [word for word in words if word.lower() not in stopwords.words('english')]\n",
    "        # Perform stemming\n",
    "        words = [stemmer.stem(word) for word in words]\n",
    "        # Remove non-alphabetic characters\n",
    "        words = [word for word in words if word.isalpha()]\n",
    "        cleaned_text.append(words)\n",
    "    return cleaned_text"
   ]
  },
  {
   "cell_type": "code",
   "execution_count": 35,
   "id": "bc51025f",
   "metadata": {
    "scrolled": false
   },
   "outputs": [],
   "source": [
    "stems_interests_dma = clean_text(tokenized_dma_interests)\n",
    "stems_interests_fin = clean_text(tokenized_fin_interests)\n",
    "stems_interests_game = clean_text(tokenized_game_interests)\n",
    "stems_interests_or = clean_text(tokenized_or_interests)"
   ]
  },
  {
   "cell_type": "code",
   "execution_count": 36,
   "id": "8cf42f77",
   "metadata": {},
   "outputs": [
    {
     "data": {
      "text/plain": [
       "[['financi',\n",
       "  'mathemat',\n",
       "  'stochast',\n",
       "  'optim',\n",
       "  'control',\n",
       "  'stochast',\n",
       "  'analysi',\n",
       "  'optim',\n",
       "  'portfolio',\n",
       "  'choic',\n",
       "  'market',\n",
       "  'friction',\n",
       "  'transact',\n",
       "  'cost',\n",
       "  'shadow',\n",
       "  'price',\n",
       "  'dualiti',\n",
       "  'portfolio',\n",
       "  'optimis'],\n",
       " ['financi',\n",
       "  'mathemat',\n",
       "  'deriv',\n",
       "  'price',\n",
       "  'hedg',\n",
       "  'incomplet',\n",
       "  'market',\n",
       "  'asymmetr',\n",
       "  'inform',\n",
       "  'stochast',\n",
       "  'calculu',\n",
       "  'stochast',\n",
       "  'control',\n",
       "  'optimis',\n",
       "  'insid',\n",
       "  'trade',\n",
       "  'util',\n",
       "  'maximis',\n",
       "  'equilibrium',\n",
       "  'theor'],\n",
       " ['stochast',\n",
       "  'calculu',\n",
       "  'optim',\n",
       "  'stop',\n",
       "  'problem',\n",
       "  'price',\n",
       "  'american',\n",
       "  'option',\n",
       "  'sequenti',\n",
       "  'test',\n",
       "  'disord',\n",
       "  'detect',\n",
       "  'problem',\n",
       "  'interest',\n",
       "  'rate',\n",
       "  'credit',\n",
       "  'risk',\n",
       "  'model',\n",
       "  'illiquid',\n",
       "  'market',\n",
       "  'stochast',\n",
       "  'impuls',\n",
       "  'control',\n",
       "  'optimis',\n",
       "  'gaussian',\n",
       "  'process'],\n",
       " ['probabl',\n",
       "  'financi',\n",
       "  'mathemat',\n",
       "  'hedg',\n",
       "  'price',\n",
       "  'deriv',\n",
       "  'util',\n",
       "  'maximis',\n",
       "  'equilibrium',\n",
       "  'theori',\n",
       "  'real',\n",
       "  'invest',\n",
       "  'decis',\n",
       "  'uncertaint'],\n",
       " ['mathemat',\n",
       "  'financ',\n",
       "  'real',\n",
       "  'option',\n",
       "  'account',\n",
       "  'theori',\n",
       "  'corpor',\n",
       "  'disclosur',\n",
       "  'polici',\n",
       "  'bargain',\n",
       "  'theori',\n",
       "  'gener',\n",
       "  'topolog',\n",
       "  'analysi'],\n",
       " ['financi',\n",
       "  'mathemat',\n",
       "  'stochast',\n",
       "  'portfolio',\n",
       "  'theori',\n",
       "  'stochast',\n",
       "  'analysi',\n",
       "  'appli',\n",
       "  'probabl',\n",
       "  'econometr',\n",
       "  'econom',\n",
       "  'learn',\n",
       "  'model',\n",
       "  'green',\n",
       "  'financ',\n",
       "  'financi',\n",
       "  'statist',\n",
       "  'financi',\n",
       "  'dat'],\n",
       " ['applic',\n",
       "  'analysi',\n",
       "  'topolog',\n",
       "  'algebra',\n",
       "  'especi',\n",
       "  'banach',\n",
       "  'algebra',\n",
       "  'holomorph',\n",
       "  'function',\n",
       "  'partial',\n",
       "  'differenti',\n",
       "  'equat',\n",
       "  'mathemat',\n",
       "  'control',\n",
       "  'theor'],\n",
       " ['financi',\n",
       "  'mathemat',\n",
       "  'statist',\n",
       "  'financ',\n",
       "  'risk',\n",
       "  'manag',\n",
       "  'financi',\n",
       "  'market',\n",
       "  'system',\n",
       "  'risk',\n",
       "  'network',\n",
       "  'model',\n",
       "  'energi',\n",
       "  'market',\n",
       "  'optim',\n",
       "  'invest',\n",
       "  'problem',\n",
       "  'stochast',\n",
       "  'volatil',\n",
       "  'model'],\n",
       " ['stochast',\n",
       "  'analysi',\n",
       "  'stochast',\n",
       "  'control',\n",
       "  'optimis',\n",
       "  'optim',\n",
       "  'stop',\n",
       "  'problem',\n",
       "  'valuat',\n",
       "  'invest',\n",
       "  'decis',\n",
       "  'invest',\n",
       "  'real',\n",
       "  'option',\n",
       "  'option',\n",
       "  'american',\n",
       "  'type',\n",
       "  'deriv',\n",
       "  'price',\n",
       "  'incomplet',\n",
       "  'market',\n",
       "  'weather',\n",
       "  'deriv']]"
      ]
     },
     "execution_count": 36,
     "metadata": {},
     "output_type": "execute_result"
    }
   ],
   "source": [
    "stems_interests_fin"
   ]
  },
  {
   "cell_type": "code",
   "execution_count": 37,
   "id": "6feffc10",
   "metadata": {},
   "outputs": [],
   "source": [
    "# Remove duplicate words per professor's research areas, and non essential words\n",
    "for i in range(len(stems_interests_dma)):\n",
    "    stems_interests_dma[i] = list(set(stems_interests_dma[i]))\n",
    "    \n",
    "for i in range(len(stems_interests_fin)):\n",
    "    stems_interests_fin[i] = list(set(stems_interests_fin[i]))\n",
    "    \n",
    "for i in range(len(stems_interests_game)):\n",
    "    stems_interests_game[i] = list(set(stems_interests_game[i]))\n",
    "\n",
    "for i in range(len(stems_interests_or)):\n",
    "    stems_interests_or[i] = list(set(stems_interests_or[i]))"
   ]
  },
  {
   "cell_type": "code",
   "execution_count": 38,
   "id": "8b602a4a",
   "metadata": {
    "scrolled": true
   },
   "outputs": [
    {
     "data": {
      "text/plain": [
       "'# This is a bit more automated but then needs manual checking\\n\\nfrom collections import Counter\\n\\n# get the total number of sublists\\nnum_sublists = len(stems_interests_dma)\\n\\n# flatten the list of lists into a single list\\nflat_list = [word for sublist in stems_interests_dma for word in sublist]\\n\\n# count the number of occurrences of each word in the flattened list\\nword_counts = Counter(flat_list)\\n\\n# create a new list to store the words that appear at least 1/3 times the amount of sublists\\nresult = []\\nfor word, count in word_counts.items():\\n    if count >= num_sublists // 3:\\n        result.append(word)\\n\\nprint(result)'"
      ]
     },
     "execution_count": 38,
     "metadata": {},
     "output_type": "execute_result"
    }
   ],
   "source": [
    "'''# This is a bit more automated but then needs manual checking\n",
    "\n",
    "from collections import Counter\n",
    "\n",
    "# get the total number of sublists\n",
    "num_sublists = len(stems_interests_dma)\n",
    "\n",
    "# flatten the list of lists into a single list\n",
    "flat_list = [word for sublist in stems_interests_dma for word in sublist]\n",
    "\n",
    "# count the number of occurrences of each word in the flattened list\n",
    "word_counts = Counter(flat_list)\n",
    "\n",
    "# create a new list to store the words that appear at least 1/3 times the amount of sublists\n",
    "result = []\n",
    "for word, count in word_counts.items():\n",
    "    if count >= num_sublists // 3:\n",
    "        result.append(word)\n",
    "\n",
    "print(result)'''"
   ]
  },
  {
   "cell_type": "code",
   "execution_count": 39,
   "id": "05fd595d",
   "metadata": {},
   "outputs": [],
   "source": [
    "# Iterate through all sublists for dma department, remove non-essential words\n",
    "words_to_remove = ['graph', 'algorithm', 'extrem', 'theori', 'model', 'mathemat', 'learn', 'problem', 'comput', 'test', 'properti', 'data', 'structur', 'method', 'aspect', 'finit', 'applic', 'assign', 'scienc', 'simpl', 'analysi', 'function', 'game', 'method', 'comput']\n",
    "\n",
    "stems_interests_dma = [[word for word in sublist if word not in words_to_remove] for sublist in stems_interests_dma]"
   ]
  },
  {
   "cell_type": "code",
   "execution_count": 40,
   "id": "01150f80",
   "metadata": {},
   "outputs": [],
   "source": [
    "# Iterate through all sublists for fin department, remove non-essential words\n",
    "\n",
    "words_to_remove = ['market', 'mathemat', 'analysi', 'choic', 'cost', 'financi', 'comput', 'problem', 'learn']\n",
    "\n",
    "stems_interests_fin = [[word for word in sublist if word not in words_to_remove] for sublist in stems_interests_fin]"
   ]
  },
  {
   "cell_type": "code",
   "execution_count": 41,
   "id": "5fb2a3d3",
   "metadata": {},
   "outputs": [],
   "source": [
    "# Iterate through all sublists for game department, remove non-essential words\n",
    "\n",
    "words_to_remove = ['inform', 'game', 'theori', 'mathemat', 'algorithm', 'analysi', 'theor']\n",
    "\n",
    "stems_interests_game = [[word for word in sublist if word not in words_to_remove] for sublist in stems_interests_game]"
   ]
  },
  {
   "cell_type": "code",
   "execution_count": 42,
   "id": "bcaac88a",
   "metadata": {},
   "outputs": [],
   "source": [
    "# Iterate through all sublists for or department, remove non-essential words\n",
    "words_to_remove = ['inform', 'game', 'theori', 'mathemat', 'algorithm', 'analysi', 'theor']\n",
    "stems_interests_or = [[word for word in sublist if word not in words_to_remove] for sublist in stems_interests_or]"
   ]
  },
  {
   "cell_type": "markdown",
   "id": "3444f385",
   "metadata": {},
   "source": [
    "## NetworkX Visualisation of each research area"
   ]
  },
  {
   "cell_type": "code",
   "execution_count": 43,
   "id": "5a9d1ea4",
   "metadata": {},
   "outputs": [],
   "source": [
    "def research_area_graph(prof_list, stems_interests):\n",
    "    interest_sets = [set(stems_interests[i]) for i in range(len(stems_interests))]\n",
    "    prof_indices = [i for i in range(len(prof_list))]\n",
    "    \n",
    "    Graph = nx.Graph()\n",
    "    \n",
    "    for pair in list(combinations(prof_indices, 2))[:8]:\n",
    "        if interest_sets[pair[0]].intersection(interest_sets[pair[1]]) != set():\n",
    "            Graph.add_edge(prof_list[pair[0]], prof_list[pair[1]])\n",
    "            \n",
    "    return Graph #nx.draw(Graph, node_color=LSE_RED, with_labels=True)"
   ]
  },
  {
   "cell_type": "markdown",
   "id": "d5cd45ff",
   "metadata": {},
   "source": [
    "### Subplots of the four areas"
   ]
  },
  {
   "cell_type": "code",
   "execution_count": 44,
   "id": "e3209313",
   "metadata": {},
   "outputs": [
    {
     "data": {
      "image/png": "[encoded data removed]",
      "text/plain": [
       "<Figure size 1000x1000 with 4 Axes>"
      ]
     },
     "metadata": {},
     "output_type": "display_data"
    }
   ],
   "source": [
    "fig, ax = plt.subplots(2, 2, figsize=(10, 10))\n",
    "\n",
    "# Draw each graph on a separate subplot\n",
    "nx.draw(research_area_graph(dma_profs, stems_interests_dma), font_size=7, node_color=LSE_RED, with_labels=True, ax=ax[0, 0])\n",
    "nx.draw(research_area_graph(fin_profs, stems_interests_fin), font_size=7, node_color=LSE_RED, with_labels=True, ax=ax[0, 1])\n",
    "nx.draw(research_area_graph(game_profs, stems_interests_game), font_size=7, node_color=LSE_RED, with_labels=True, ax=ax[1, 0])\n",
    "nx.draw(research_area_graph(or_profs, stems_interests_or), font_size=7, node_color=LSE_RED, with_labels=True, ax=ax[1, 1])\n",
    "\n",
    "# Set titles\n",
    "ax[0, 0].set_title('Discrete Maths and Algorithms')\n",
    "ax[0, 1].set_title('Financial Maths')\n",
    "ax[1, 0].set_title('Game Theory')\n",
    "ax[1, 1].set_title('Operational Research')\n",
    "\n",
    "# Show the plot\n",
    "plt.show()"
   ]
  },
  {
   "cell_type": "markdown",
   "id": "4f3b76a7",
   "metadata": {},
   "source": [
    "### Create a DataFrame\n",
    "* We will have the professor as a column name\n",
    "* Then their interests underneath"
   ]
  },
  {
   "cell_type": "code",
   "execution_count": null,
   "id": "fb23e667",
   "metadata": {},
   "outputs": [],
   "source": [
    "df = pd.DataFrame(columns = all_profs)"
   ]
  },
  {
   "cell_type": "code",
   "execution_count": null,
   "id": "4d6166ab",
   "metadata": {},
   "outputs": [],
   "source": [
    "df "
   ]
  },
  {
   "cell_type": "code",
   "execution_count": null,
   "id": "fbf8bc02",
   "metadata": {},
   "outputs": [],
   "source": []
  }
 ],
 "metadata": {
  "kernelspec": {
   "display_name": "Python 3 (ipykernel)",
   "language": "python",
   "name": "python3"
  },
  "language_info": {
   "codemirror_mode": {
    "name": "ipython",
    "version": 3
   },
   "file_extension": ".py",
   "mimetype": "text/x-python",
   "name": "python",
   "nbconvert_exporter": "python",
   "pygments_lexer": "ipython3",
   "version": "3.9.16"
  }
 },
 "nbformat": 4,
 "nbformat_minor": 5
}
